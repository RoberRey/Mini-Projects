{
 "cells": [
  {
   "cell_type": "code",
   "execution_count": 1,
   "id": "a09019e9",
   "metadata": {},
   "outputs": [],
   "source": [
    "import os"
   ]
  },
  {
   "cell_type": "code",
   "execution_count": 2,
   "id": "f4be49b2",
   "metadata": {},
   "outputs": [],
   "source": [
    "os.chdir('..')"
   ]
  },
  {
   "cell_type": "code",
   "execution_count": 3,
   "id": "e3406492",
   "metadata": {},
   "outputs": [
    {
     "name": "stdout",
     "output_type": "stream",
     "text": [
      ".\\tabular-playground-series-oct-2022.zip\n",
      ".\\data\\final_submission.csv\n",
      ".\\data\\sample_submission.csv\n",
      ".\\data\\test.csv\n",
      ".\\data\\test.feather\n",
      ".\\data\\test_dtypes.csv\n",
      ".\\data\\train_0.csv\n",
      ".\\data\\train_0.feather\n",
      ".\\data\\train_1.csv\n",
      ".\\data\\train_1.feather\n",
      ".\\data\\train_2.csv\n",
      ".\\data\\train_2.feather\n",
      ".\\data\\train_3.csv\n",
      ".\\data\\train_3.feather\n",
      ".\\data\\train_4.csv\n",
      ".\\data\\train_4.feather\n",
      ".\\data\\train_5.csv\n",
      ".\\data\\train_5.feather\n",
      ".\\data\\train_6.csv\n",
      ".\\data\\train_6.feather\n",
      ".\\data\\train_7.csv\n",
      ".\\data\\train_7.feather\n",
      ".\\data\\train_8.csv\n",
      ".\\data\\train_8.feather\n",
      ".\\data\\train_9.csv\n",
      ".\\data\\train_9.feather\n",
      ".\\data\\train_dtypes.csv\n",
      ".\\notebooks\\Data - 80% Data - 0.19784.ipynb\n",
      ".\\notebooks\\Data - All Data - 0.19747.ipynb\n",
      ".\\notebooks\\Data - One Fold - 0.20257.ipynb\n",
      ".\\notebooks\\Data to feather.ipynb\n",
      ".\\notebooks\\.ipynb_checkpoints\\Data - 80% Data - 0.19784-checkpoint.ipynb\n",
      ".\\notebooks\\.ipynb_checkpoints\\Data - All Data - 0.19747-checkpoint.ipynb\n",
      ".\\notebooks\\.ipynb_checkpoints\\Data - One Fold - 0.20257-checkpoint.ipynb\n",
      ".\\notebooks\\.ipynb_checkpoints\\Data to feather-checkpoint.ipynb\n"
     ]
    }
   ],
   "source": [
    "for dirname, _, filenames in os.walk('.'):\n",
    "    for filename in filenames:\n",
    "        print(os.path.join(dirname, filename))"
   ]
  },
  {
   "cell_type": "code",
   "execution_count": 4,
   "id": "af6a1844",
   "metadata": {},
   "outputs": [],
   "source": [
    "import pandas as pd\n",
    "import numpy as np"
   ]
  },
  {
   "cell_type": "code",
   "execution_count": 5,
   "id": "6d531c56",
   "metadata": {},
   "outputs": [],
   "source": [
    "data_folder = \"data/\"\n",
    "results_folder = \"results/\"\n",
    "models_folder = \"models/\""
   ]
  },
  {
   "cell_type": "code",
   "execution_count": 6,
   "id": "438b5278",
   "metadata": {},
   "outputs": [],
   "source": [
    "def reduce_mem_usage(df, verbose=True):\n",
    "    start_mem = df.memory_usage().sum()/1024**2\n",
    "    numerics = ['int8', 'int16', 'int32', 'int64',\n",
    "                'float16', 'float32', 'float64']\n",
    "\n",
    "    for col in df.columns:\n",
    "        if col == 'team_scoring_next':\n",
    "            df[col] = df[col].astype('category')\n",
    "            continue\n",
    "        col_type = df[col].dtypes\n",
    "        limit = abs(df[col]).max()\n",
    "\n",
    "        for tp in numerics:\n",
    "            cond1 = str(col_type)[0] == tp[0]\n",
    "            if tp[0] == 'i': cond2 = limit <= np.iinfo(tp).max\n",
    "            else: cond2 = limit <= np.finfo(tp).max\n",
    "\n",
    "            if cond1 and cond2:\n",
    "                df[col] = df[col].astype(tp)\n",
    "                break\n",
    "\n",
    "    end_mem = df.memory_usage().sum()/1024**2\n",
    "\n",
    "    reduction = (start_mem - end_mem)*100/start_mem\n",
    "    if verbose:\n",
    "        print(f'[INFO] Mem. usage decreased to {end_mem:.2f}'\n",
    "              f' MB {reduction:.2f}% reduction.')\n",
    "    return df"
   ]
  },
  {
   "cell_type": "code",
   "execution_count": 7,
   "id": "0cb06a86",
   "metadata": {},
   "outputs": [],
   "source": [
    "def feather_read_reduce(path):\n",
    "    data = pd.read_feather(path)\n",
    "    reduce_mem_usage(data)\n",
    "    return data"
   ]
  },
  {
   "cell_type": "code",
   "execution_count": 8,
   "id": "d1f5097c",
   "metadata": {},
   "outputs": [
    {
     "name": "stdout",
     "output_type": "stream",
     "text": [
      "[INFO] Mem. usage decreased to 245.98 MB 44.19% reduction.\n",
      "[INFO] Mem. usage decreased to 248.20 MB 44.19% reduction.\n",
      "[INFO] Mem. usage decreased to 243.24 MB 44.19% reduction.\n",
      "[INFO] Mem. usage decreased to 242.00 MB 44.19% reduction.\n",
      "[INFO] Mem. usage decreased to 242.37 MB 44.19% reduction.\n",
      "[INFO] Mem. usage decreased to 239.61 MB 44.19% reduction.\n",
      "[INFO] Mem. usage decreased to 236.20 MB 44.19% reduction.\n",
      "[INFO] Mem. usage decreased to 241.43 MB 44.19% reduction.\n",
      "[INFO] Mem. usage decreased to 246.26 MB 44.19% reduction.\n",
      "[INFO] Mem. usage decreased to 240.65 MB 44.19% reduction.\n"
     ]
    }
   ],
   "source": [
    "for i in range(10):\n",
    "    if i == 0:\n",
    "        data = feather_read_reduce(f'{data_folder}train_{i}.feather')\n",
    "    else:\n",
    "        data_ = feather_read_reduce(f'{data_folder}train_{i}.feather')\n",
    "        data = pd.concat([data,data_])\n",
    "        del data_"
   ]
  },
  {
   "cell_type": "code",
   "execution_count": 9,
   "id": "2b9ee417",
   "metadata": {},
   "outputs": [
    {
     "data": {
      "text/plain": [
       "Index(['game_num', 'event_id', 'event_time', 'ball_pos_x', 'ball_pos_y',\n",
       "       'ball_pos_z', 'ball_vel_x', 'ball_vel_y', 'ball_vel_z', 'p0_pos_x',\n",
       "       'p0_pos_y', 'p0_pos_z', 'p0_vel_x', 'p0_vel_y', 'p0_vel_z', 'p0_boost',\n",
       "       'p1_pos_x', 'p1_pos_y', 'p1_pos_z', 'p1_vel_x', 'p1_vel_y', 'p1_vel_z',\n",
       "       'p1_boost', 'p2_pos_x', 'p2_pos_y', 'p2_pos_z', 'p2_vel_x', 'p2_vel_y',\n",
       "       'p2_vel_z', 'p2_boost', 'p3_pos_x', 'p3_pos_y', 'p3_pos_z', 'p3_vel_x',\n",
       "       'p3_vel_y', 'p3_vel_z', 'p3_boost', 'p4_pos_x', 'p4_pos_y', 'p4_pos_z',\n",
       "       'p4_vel_x', 'p4_vel_y', 'p4_vel_z', 'p4_boost', 'p5_pos_x', 'p5_pos_y',\n",
       "       'p5_pos_z', 'p5_vel_x', 'p5_vel_y', 'p5_vel_z', 'p5_boost',\n",
       "       'boost0_timer', 'boost1_timer', 'boost2_timer', 'boost3_timer',\n",
       "       'boost4_timer', 'boost5_timer', 'player_scoring_next',\n",
       "       'team_scoring_next', 'team_A_scoring_within_10sec',\n",
       "       'team_B_scoring_within_10sec'],\n",
       "      dtype='object')"
      ]
     },
     "execution_count": 9,
     "metadata": {},
     "output_type": "execute_result"
    }
   ],
   "source": [
    "data.columns"
   ]
  },
  {
   "cell_type": "markdown",
   "id": "a382461a",
   "metadata": {},
   "source": [
    "# Distance from the ball"
   ]
  },
  {
   "cell_type": "code",
   "execution_count": 61,
   "id": "fc655013",
   "metadata": {
    "scrolled": true
   },
   "outputs": [],
   "source": [
    "data = data.assign(p0_dist_ball = lambda df_ : \n",
    "            (\n",
    "                np.square(df_['ball_pos_x']-df_[f\"p0_pos_x\"]) +\n",
    "                np.square(df_['ball_pos_y']-df_[f\"p0_pos_y\"]) +\n",
    "                np.square(df_['ball_pos_z']-df_[f\"p0_pos_z\"])\n",
    "            )**(1/2),\n",
    "            \n",
    "            p1_dist_ball = lambda df_ : \n",
    "            (\n",
    "                np.square(df_['ball_pos_x']-df_[f\"p1_pos_x\"]) +\n",
    "                np.square(df_['ball_pos_y']-df_[f\"p1_pos_y\"]) +\n",
    "                np.square(df_['ball_pos_z']-df_[f\"p1_pos_z\"])\n",
    "            )**(1/2),\n",
    "            \n",
    "            p2_dist_ball = lambda df_ : \n",
    "            (\n",
    "                np.square(df_['ball_pos_x']-df_[f\"p2_pos_x\"]) +\n",
    "                np.square(df_['ball_pos_y']-df_[f\"p2_pos_y\"]) +\n",
    "                np.square(df_['ball_pos_z']-df_[f\"p2_pos_z\"])\n",
    "            )**(1/2),\n",
    "            \n",
    "            p3_dist_ball = lambda df_ : \n",
    "            (\n",
    "                np.square(df_['ball_pos_x']-df_[f\"p3_pos_x\"]) +\n",
    "                np.square(df_['ball_pos_y']-df_[f\"p3_pos_y\"]) +\n",
    "                np.square(df_['ball_pos_z']-df_[f\"p3_pos_z\"])\n",
    "            )**(1/2),\n",
    "            \n",
    "            p4_dist_ball = lambda df_ : \n",
    "            (\n",
    "                np.square(df_['ball_pos_x']-df_[f\"p4_pos_x\"]) +\n",
    "                np.square(df_['ball_pos_y']-df_[f\"p4_pos_y\"]) +\n",
    "                np.square(df_['ball_pos_z']-df_[f\"p4_pos_z\"])\n",
    "            )**(1/2),\n",
    "            \n",
    "            p5_dist_ball = lambda df_ : \n",
    "            (\n",
    "                np.square(df_['ball_pos_x']-df_[f\"p5_pos_x\"]) +\n",
    "                np.square(df_['ball_pos_y']-df_[f\"p5_pos_y\"]) +                \n",
    "                np.square(df_['ball_pos_z']-df_[f\"p5_pos_z\"])\n",
    "            )**(1/2)\n",
    "            \n",
    ")"
   ]
  },
  {
   "cell_type": "code",
   "execution_count": 62,
   "id": "cbf63f1e",
   "metadata": {},
   "outputs": [],
   "source": [
    "# data = data.assign(p0_vel = lambda df_ : \n",
    "#             (\n",
    "#                 np.square(df_['p0_vel_x']) +\n",
    "#                 np.square(df_['p0_vel_y']) +\n",
    "#                 np.square(df_['p0_vel_z'])\n",
    "#             )**(1/2),\n",
    "            \n",
    "#             p1_vel = lambda df_ : \n",
    "#             (\n",
    "#                 np.square(df_[\"p1_vel_x\"]) +\n",
    "#                 np.square(df_[\"p1_vel_y\"]) +\n",
    "#                 np.square(df_[\"p1_vel_z\"])\n",
    "#             )**(1/2),\n",
    "            \n",
    "#             p2_vel = lambda df_ : \n",
    "#             (\n",
    "#                 np.square(df_[\"p2_vel_x\"]) +\n",
    "#                 np.square(df_[\"p2_vel_y\"]) +\n",
    "#                 np.square(df_[\"p2_vel_z\"])\n",
    "#             )**(1/2),\n",
    "            \n",
    "#             p3_vel = lambda df_ : \n",
    "#             (\n",
    "#                 np.square(df_[\"p3_vel_x\"]) +\n",
    "#                 np.square(df_[\"p3_vel_y\"]) +\n",
    "#                 np.square(df_[\"p3_vel_z\"])\n",
    "#             )**(1/2),\n",
    "            \n",
    "#             p4_vel = lambda df_ : \n",
    "#             (\n",
    "#                 np.square(df_[\"p4_vel_x\"]) +\n",
    "#                 np.square(df_[\"p4_vel_y\"]) +\n",
    "#                 np.square(df_[\"p4_vel_z\"])\n",
    "#             )**(1/2),\n",
    "            \n",
    "#             p5_vel = lambda df_ : \n",
    "#             (\n",
    "#                 np.square(df_[\"p5_vel_x\"]) +\n",
    "#                 np.square(df_[\"p5_vel_y\"]) +\n",
    "#                 np.square(df_[\"p5_vel_z\"])\n",
    "#             )**(1/2),\n",
    "                   \n",
    "#             ball_vel = lambda df_ : \n",
    "#             (\n",
    "#                 np.square(df_[\"ball_vel_x\"]) +\n",
    "#                 np.square(df_[\"ball_vel_y\"]) +\n",
    "#                 np.square(df_[\"ball_vel_z\"])\n",
    "#             )**(1/2)\n",
    "            \n",
    "# )"
   ]
  },
  {
   "cell_type": "code",
   "execution_count": 10,
   "id": "6aa9510f",
   "metadata": {},
   "outputs": [],
   "source": [
    "def normal(triangles):\n",
    "    # The cross product of two sides is a normal vector\n",
    "    return np.cross(triangles[:,1] - triangles[:,0], \n",
    "                    triangles[:,2] - triangles[:,0], axis=1)\n",
    "\n",
    "def area(triangles):\n",
    "    # The norm of the cross product of two sides is twice the area\n",
    "    return np.linalg.norm(normal(triangles), axis=1) / 2"
   ]
  },
  {
   "cell_type": "code",
   "execution_count": 27,
   "id": "f9ef1c7d",
   "metadata": {},
   "outputs": [
    {
     "data": {
      "text/plain": [
       "Index(['game_num', 'event_id', 'event_time', 'ball_pos_x', 'ball_pos_y',\n",
       "       'ball_pos_z', 'ball_vel_x', 'ball_vel_y', 'ball_vel_z', 'p0_pos_x',\n",
       "       'p0_pos_y', 'p0_pos_z', 'p0_vel_x', 'p0_vel_y', 'p0_vel_z', 'p0_boost',\n",
       "       'p1_pos_x', 'p1_pos_y', 'p1_pos_z', 'p1_vel_x', 'p1_vel_y', 'p1_vel_z',\n",
       "       'p1_boost', 'p2_pos_x', 'p2_pos_y', 'p2_pos_z', 'p2_vel_x', 'p2_vel_y',\n",
       "       'p2_vel_z', 'p2_boost', 'p3_pos_x', 'p3_pos_y', 'p3_pos_z', 'p3_vel_x',\n",
       "       'p3_vel_y', 'p3_vel_z', 'p3_boost', 'p4_pos_x', 'p4_pos_y', 'p4_pos_z',\n",
       "       'p4_vel_x', 'p4_vel_y', 'p4_vel_z', 'p4_boost', 'p5_pos_x', 'p5_pos_y',\n",
       "       'p5_pos_z', 'p5_vel_x', 'p5_vel_y', 'p5_vel_z', 'p5_boost',\n",
       "       'boost0_timer', 'boost1_timer', 'boost2_timer', 'boost3_timer',\n",
       "       'boost4_timer', 'boost5_timer', 'player_scoring_next',\n",
       "       'team_scoring_next', 'team_A_scoring_within_10sec',\n",
       "       'team_B_scoring_within_10sec'],\n",
       "      dtype='object')"
      ]
     },
     "execution_count": 27,
     "metadata": {},
     "output_type": "execute_result"
    }
   ],
   "source": [
    "data.columns"
   ]
  },
  {
   "cell_type": "code",
   "execution_count": 32,
   "id": "47a19c53",
   "metadata": {},
   "outputs": [],
   "source": [
    "data = (\n",
    "    data.assign(area_team_A = lambda df_ : abs(0.5*(data.p0_pos_x*(data.p1_pos_y-data.p2_pos_y)+\n",
    "                                        data.p1_pos_x*(data.p2_pos_y-data.p0_pos_y)+ \n",
    "                                        data.p2_pos_x*(data.p0_pos_y-data.p1_pos_y))),\n",
    "                \n",
    "                area_team_B = lambda df_ : abs(0.5*(data.p3_pos_x*(data.p4_pos_y-data.p5_pos_y)+\n",
    "                                        data.p4_pos_x*(data.p5_pos_y-data.p3_pos_y)+ \n",
    "                                        data.p5_pos_x*(data.p3_pos_y-data.p4_pos_y)))\n",
    "               )\n",
    ")"
   ]
  },
  {
   "cell_type": "code",
   "execution_count": null,
   "id": "f68f9abe",
   "metadata": {},
   "outputs": [],
   "source": [
    "\n",
    "Triange_Area = abs((0.5)*(x1*(y2-y3)+x2*(y3-y1)+x3*(y1-y2)))"
   ]
  },
  {
   "cell_type": "markdown",
   "id": "d98daf03",
   "metadata": {},
   "source": [
    "# Model A"
   ]
  },
  {
   "cell_type": "code",
   "execution_count": 11,
   "id": "034b0222",
   "metadata": {},
   "outputs": [
    {
     "data": {
      "text/plain": [
       "Index(['game_num', 'event_id', 'event_time', 'ball_pos_x', 'ball_pos_y',\n",
       "       'ball_pos_z', 'ball_vel_x', 'ball_vel_y', 'ball_vel_z', 'p0_pos_x',\n",
       "       'p0_pos_y', 'p0_pos_z', 'p0_vel_x', 'p0_vel_y', 'p0_vel_z', 'p0_boost',\n",
       "       'p1_pos_x', 'p1_pos_y', 'p1_pos_z', 'p1_vel_x', 'p1_vel_y', 'p1_vel_z',\n",
       "       'p1_boost', 'p2_pos_x', 'p2_pos_y', 'p2_pos_z', 'p2_vel_x', 'p2_vel_y',\n",
       "       'p2_vel_z', 'p2_boost', 'p3_pos_x', 'p3_pos_y', 'p3_pos_z', 'p3_vel_x',\n",
       "       'p3_vel_y', 'p3_vel_z', 'p3_boost', 'p4_pos_x', 'p4_pos_y', 'p4_pos_z',\n",
       "       'p4_vel_x', 'p4_vel_y', 'p4_vel_z', 'p4_boost', 'p5_pos_x', 'p5_pos_y',\n",
       "       'p5_pos_z', 'p5_vel_x', 'p5_vel_y', 'p5_vel_z', 'p5_boost',\n",
       "       'boost0_timer', 'boost1_timer', 'boost2_timer', 'boost3_timer',\n",
       "       'boost4_timer', 'boost5_timer', 'player_scoring_next',\n",
       "       'team_scoring_next', 'team_A_scoring_within_10sec',\n",
       "       'team_B_scoring_within_10sec'],\n",
       "      dtype='object')"
      ]
     },
     "execution_count": 11,
     "metadata": {},
     "output_type": "execute_result"
    }
   ],
   "source": [
    "data.columns"
   ]
  },
  {
   "cell_type": "code",
   "execution_count": 33,
   "id": "d220fdac",
   "metadata": {},
   "outputs": [],
   "source": [
    "from sklearn.model_selection import train_test_split\n",
    "from sklearn.model_selection import GroupShuffleSplit \n",
    "import lightgbm as lgb"
   ]
  },
  {
   "cell_type": "code",
   "execution_count": 34,
   "id": "ca400f04",
   "metadata": {},
   "outputs": [],
   "source": [
    "splitter = GroupShuffleSplit(test_size=.2, n_splits=1, random_state = 42)\n",
    "split = splitter.split(data, groups=data['game_num'])\n",
    "train_inds, test_inds = next(split)"
   ]
  },
  {
   "cell_type": "code",
   "execution_count": 35,
   "id": "1421eeed",
   "metadata": {},
   "outputs": [],
   "source": [
    "train = data.iloc[train_inds]\n",
    "test = data.iloc[test_inds]"
   ]
  },
  {
   "cell_type": "code",
   "execution_count": 36,
   "id": "e4df60d3",
   "metadata": {},
   "outputs": [],
   "source": [
    "train_A = train.drop(columns=['game_num','event_id','event_time','player_scoring_next','team_scoring_next','team_B_scoring_within_10sec'])\n",
    "test_A = test.drop(columns=['game_num','event_id','event_time','player_scoring_next','team_scoring_next','team_B_scoring_within_10sec'])"
   ]
  },
  {
   "cell_type": "code",
   "execution_count": 38,
   "id": "e9dae971",
   "metadata": {},
   "outputs": [],
   "source": [
    "X_train_A = train_A.drop('team_A_scoring_within_10sec',axis=1)\n",
    "y_train_A = train_A.team_A_scoring_within_10sec\n",
    "\n",
    "X_test_A = test_A.drop('team_A_scoring_within_10sec',axis=1)\n",
    "y_test_A = test_A.team_A_scoring_within_10sec"
   ]
  },
  {
   "cell_type": "code",
   "execution_count": 39,
   "id": "42b56505",
   "metadata": {},
   "outputs": [],
   "source": [
    "# X_train, X_test, y_train, y_test = train_test_split(data_A.drop('team_A_scoring_within_10sec',axis=1),data_A.team_A_scoring_within_10sec, test_size=0.2, random_state=42)"
   ]
  },
  {
   "cell_type": "code",
   "execution_count": 40,
   "id": "d4aea489",
   "metadata": {},
   "outputs": [],
   "source": [
    "lgb_train_A = lgb.Dataset(X_train_A,y_train_A)\n",
    "lgb_eval_A  = lgb.Dataset(X_test_A,y_test_A)"
   ]
  },
  {
   "cell_type": "code",
   "execution_count": 1,
   "id": "5f90ed70",
   "metadata": {},
   "outputs": [],
   "source": [
    "params = {\n",
    "    'boosting_type': 'gbdt',\n",
    "    'objective': 'binary',\n",
    "    'metric' : 'binary_logloss',\n",
    "    'n_estimators':4200,\n",
    "#     'num_leaves': 31,\n",
    "    'learning_rate': 0.03,\n",
    "     'feature_fraction': 0.8,\n",
    "     'bagging_fraction': 0.8,\n",
    "     'bagging_freq': 5,\n",
    "#     cross-entropy\n",
    "    'verbose': -1,\n",
    "    'device': 'gpu'\n",
    "}"
   ]
  },
  {
   "cell_type": "code",
   "execution_count": 2,
   "id": "94baac01",
   "metadata": {},
   "outputs": [
    {
     "ename": "NameError",
     "evalue": "name 'lgb' is not defined",
     "output_type": "error",
     "traceback": [
      "\u001b[1;31m---------------------------------------------------------------------------\u001b[0m",
      "\u001b[1;31mNameError\u001b[0m                                 Traceback (most recent call last)",
      "\u001b[1;32m~\\AppData\\Local\\Temp/ipykernel_3324/6225534.py\u001b[0m in \u001b[0;36m<module>\u001b[1;34m\u001b[0m\n\u001b[1;32m----> 1\u001b[1;33m gbm_a = lgb.train(params,\n\u001b[0m\u001b[0;32m      2\u001b[0m                 \u001b[0mlgb_train_A\u001b[0m\u001b[1;33m,\u001b[0m\u001b[1;33m\u001b[0m\u001b[1;33m\u001b[0m\u001b[0m\n\u001b[0;32m      3\u001b[0m                 \u001b[0mvalid_sets\u001b[0m\u001b[1;33m=\u001b[0m\u001b[1;33m[\u001b[0m\u001b[0mlgb_train_A\u001b[0m\u001b[1;33m,\u001b[0m\u001b[0mlgb_eval_A\u001b[0m\u001b[1;33m]\u001b[0m\u001b[1;33m,\u001b[0m\u001b[1;33m\u001b[0m\u001b[1;33m\u001b[0m\u001b[0m\n\u001b[0;32m      4\u001b[0m                 \u001b[0mverbose_eval\u001b[0m\u001b[1;33m=\u001b[0m\u001b[1;36m100\u001b[0m\u001b[1;33m,\u001b[0m\u001b[1;33m\u001b[0m\u001b[1;33m\u001b[0m\u001b[0m\n\u001b[0;32m      5\u001b[0m                 early_stopping_rounds=100)\n",
      "\u001b[1;31mNameError\u001b[0m: name 'lgb' is not defined"
     ]
    }
   ],
   "source": [
    "gbm_a = lgb.train(params,\n",
    "                lgb_train_A,\n",
    "                valid_sets=[lgb_train_A,lgb_eval_A],\n",
    "                verbose_eval=100,\n",
    "                early_stopping_rounds=100)"
   ]
  },
  {
   "cell_type": "code",
   "execution_count": 43,
   "id": "e55b7273",
   "metadata": {},
   "outputs": [],
   "source": [
    "# [5276]\ttraining's binary_logloss: 0.167371\tvalid_1's binary_logloss: 0.192861 con vel\n",
    "# training's binary_logloss: 0.172375\tvalid_1's binary_logloss: 0.192983 Score: 0.19784\n",
    "# con area sin vel [3609]\ttraining's binary_logloss: 0.175468\tvalid_1's binary_logloss: 0.193827"
   ]
  },
  {
   "cell_type": "code",
   "execution_count": 44,
   "id": "2830dc62",
   "metadata": {},
   "outputs": [
    {
     "data": {
      "text/plain": [
       "<AxesSubplot:title={'center':'Feature importance'}, xlabel='Feature importance', ylabel='Features'>"
      ]
     },
     "execution_count": 44,
     "metadata": {},
     "output_type": "execute_result"
    },
    {
     "data": {
      "image/png": "[encoded data removed]",
      "text/plain": [
       "<Figure size 1296x864 with 1 Axes>"
      ]
     },
     "metadata": {
      "needs_background": "light"
     },
     "output_type": "display_data"
    }
   ],
   "source": [
    "lgb.plot_importance(gbm_a,figsize=(18,12))"
   ]
  },
  {
   "cell_type": "markdown",
   "id": "693249b7",
   "metadata": {},
   "source": [
    "# Model B"
   ]
  },
  {
   "cell_type": "code",
   "execution_count": 45,
   "id": "e46a7262",
   "metadata": {},
   "outputs": [],
   "source": [
    "train_B = train.drop(columns=['game_num','event_id','event_time','player_scoring_next','team_scoring_next','team_A_scoring_within_10sec'])\n",
    "test_B = test.drop(columns=['game_num','event_id','event_time','player_scoring_next','team_scoring_next','team_A_scoring_within_10sec'])"
   ]
  },
  {
   "cell_type": "code",
   "execution_count": 46,
   "id": "87f47c3a",
   "metadata": {},
   "outputs": [],
   "source": [
    "X_train_B = train_B.drop('team_B_scoring_within_10sec',axis=1)\n",
    "y_train_B = train_B.team_B_scoring_within_10sec\n",
    "\n",
    "X_test_B = test_B.drop('team_B_scoring_within_10sec',axis=1)\n",
    "y_test_B = test_B.team_B_scoring_within_10sec"
   ]
  },
  {
   "cell_type": "code",
   "execution_count": 47,
   "id": "4d78debb",
   "metadata": {},
   "outputs": [],
   "source": [
    "# X_train, X_test, y_train, y_test = train_test_split(data_B.drop('team_B_scoring_within_10sec',axis=1),data_B.team_B_scoring_within_10sec, test_size=0.2, random_state=42)"
   ]
  },
  {
   "cell_type": "code",
   "execution_count": 48,
   "id": "3ecf7ce7",
   "metadata": {},
   "outputs": [],
   "source": [
    "lgb_train_B = lgb.Dataset(X_train_B,y_train_B)\n",
    "lgb_eval_B  = lgb.Dataset(X_test_B,y_test_B)"
   ]
  },
  {
   "cell_type": "code",
   "execution_count": 1,
   "id": "dd5582d2",
   "metadata": {},
   "outputs": [],
   "source": [
    "params = {\n",
    "    'boosting_type': 'gbdt',\n",
    "    'objective': 'binary',\n",
    "    'metric' : 'binary_logloss',\n",
    "    'n_estimators':6000,\n",
    "#     'num_leaves': 31,\n",
    "    'learning_rate': 0.03,\n",
    "#      'feature_fraction': 0.8,\n",
    "#      'bagging_fraction': 0.8,\n",
    "#      'bagging_freq': 5,\n",
    "#     cross-entropy\n",
    "    'verbose': -1,\n",
    "    'device': 'gpu'\n",
    "}"
   ]
  },
  {
   "cell_type": "code",
   "execution_count": 50,
   "id": "122741a1",
   "metadata": {},
   "outputs": [
    {
     "name": "stderr",
     "output_type": "stream",
     "text": [
      "C:\\Users\\Usuario\\anaconda3\\lib\\site-packages\\lightgbm\\engine.py:177: UserWarning: Found `n_estimators` in params. Will use it instead of argument\n",
      "  _log_warning(f\"Found `{alias}` in params. Will use it instead of argument\")\n",
      "C:\\Users\\Usuario\\anaconda3\\lib\\site-packages\\lightgbm\\engine.py:181: UserWarning: 'early_stopping_rounds' argument is deprecated and will be removed in a future release of LightGBM. Pass 'early_stopping()' callback via 'callbacks' argument instead.\n",
      "  _log_warning(\"'early_stopping_rounds' argument is deprecated and will be removed in a future release of LightGBM. \"\n",
      "C:\\Users\\Usuario\\anaconda3\\lib\\site-packages\\lightgbm\\engine.py:239: UserWarning: 'verbose_eval' argument is deprecated and will be removed in a future release of LightGBM. Pass 'log_evaluation()' callback via 'callbacks' argument instead.\n",
      "  _log_warning(\"'verbose_eval' argument is deprecated and will be removed in a future release of LightGBM. \"\n"
     ]
    },
    {
     "name": "stdout",
     "output_type": "stream",
     "text": [
      "Training until validation scores don't improve for 100 rounds\n",
      "[100]\ttraining's binary_logloss: 0.191942\tvalid_1's binary_logloss: 0.198879\n",
      "[200]\ttraining's binary_logloss: 0.189229\tvalid_1's binary_logloss: 0.196466\n",
      "[300]\ttraining's binary_logloss: 0.187754\tvalid_1's binary_logloss: 0.195396\n",
      "[400]\ttraining's binary_logloss: 0.186669\tvalid_1's binary_logloss: 0.194748\n",
      "[500]\ttraining's binary_logloss: 0.185788\tvalid_1's binary_logloss: 0.194406\n",
      "[600]\ttraining's binary_logloss: 0.185016\tvalid_1's binary_logloss: 0.194199\n",
      "[700]\ttraining's binary_logloss: 0.184319\tvalid_1's binary_logloss: 0.194106\n",
      "[800]\ttraining's binary_logloss: 0.183677\tvalid_1's binary_logloss: 0.194055\n"
     ]
    },
    {
     "ename": "KeyboardInterrupt",
     "evalue": "",
     "output_type": "error",
     "traceback": [
      "\u001b[1;31m---------------------------------------------------------------------------\u001b[0m",
      "\u001b[1;31mKeyboardInterrupt\u001b[0m                         Traceback (most recent call last)",
      "\u001b[1;32m~\\AppData\\Local\\Temp/ipykernel_15432/2513402274.py\u001b[0m in \u001b[0;36m<module>\u001b[1;34m\u001b[0m\n\u001b[1;32m----> 1\u001b[1;33m gbm_b = lgb.train(params,\n\u001b[0m\u001b[0;32m      2\u001b[0m                 \u001b[0mlgb_train_B\u001b[0m\u001b[1;33m,\u001b[0m\u001b[1;33m\u001b[0m\u001b[1;33m\u001b[0m\u001b[0m\n\u001b[0;32m      3\u001b[0m                 \u001b[0mvalid_sets\u001b[0m\u001b[1;33m=\u001b[0m\u001b[1;33m[\u001b[0m\u001b[0mlgb_train_B\u001b[0m\u001b[1;33m,\u001b[0m\u001b[0mlgb_eval_B\u001b[0m\u001b[1;33m]\u001b[0m\u001b[1;33m,\u001b[0m\u001b[1;33m\u001b[0m\u001b[1;33m\u001b[0m\u001b[0m\n\u001b[0;32m      4\u001b[0m                 \u001b[0mverbose_eval\u001b[0m\u001b[1;33m=\u001b[0m\u001b[1;36m100\u001b[0m\u001b[1;33m,\u001b[0m\u001b[1;33m\u001b[0m\u001b[1;33m\u001b[0m\u001b[0m\n\u001b[0;32m      5\u001b[0m                 early_stopping_rounds=100)\n",
      "\u001b[1;32m~\\anaconda3\\lib\\site-packages\\lightgbm\\engine.py\u001b[0m in \u001b[0;36mtrain\u001b[1;34m(params, train_set, num_boost_round, valid_sets, valid_names, fobj, feval, init_model, feature_name, categorical_feature, early_stopping_rounds, evals_result, verbose_eval, learning_rates, keep_training_booster, callbacks)\u001b[0m\n\u001b[0;32m    290\u001b[0m                                     evaluation_result_list=None))\n\u001b[0;32m    291\u001b[0m \u001b[1;33m\u001b[0m\u001b[0m\n\u001b[1;32m--> 292\u001b[1;33m         \u001b[0mbooster\u001b[0m\u001b[1;33m.\u001b[0m\u001b[0mupdate\u001b[0m\u001b[1;33m(\u001b[0m\u001b[0mfobj\u001b[0m\u001b[1;33m=\u001b[0m\u001b[0mfobj\u001b[0m\u001b[1;33m)\u001b[0m\u001b[1;33m\u001b[0m\u001b[1;33m\u001b[0m\u001b[0m\n\u001b[0m\u001b[0;32m    293\u001b[0m \u001b[1;33m\u001b[0m\u001b[0m\n\u001b[0;32m    294\u001b[0m         \u001b[0mevaluation_result_list\u001b[0m \u001b[1;33m=\u001b[0m \u001b[1;33m[\u001b[0m\u001b[1;33m]\u001b[0m\u001b[1;33m\u001b[0m\u001b[1;33m\u001b[0m\u001b[0m\n",
      "\u001b[1;32m~\\anaconda3\\lib\\site-packages\\lightgbm\\basic.py\u001b[0m in \u001b[0;36mupdate\u001b[1;34m(self, train_set, fobj)\u001b[0m\n\u001b[0;32m   3019\u001b[0m             \u001b[1;32mif\u001b[0m \u001b[0mself\u001b[0m\u001b[1;33m.\u001b[0m\u001b[0m__set_objective_to_none\u001b[0m\u001b[1;33m:\u001b[0m\u001b[1;33m\u001b[0m\u001b[1;33m\u001b[0m\u001b[0m\n\u001b[0;32m   3020\u001b[0m                 \u001b[1;32mraise\u001b[0m \u001b[0mLightGBMError\u001b[0m\u001b[1;33m(\u001b[0m\u001b[1;34m'Cannot update due to null objective function.'\u001b[0m\u001b[1;33m)\u001b[0m\u001b[1;33m\u001b[0m\u001b[1;33m\u001b[0m\u001b[0m\n\u001b[1;32m-> 3021\u001b[1;33m             _safe_call(_LIB.LGBM_BoosterUpdateOneIter(\n\u001b[0m\u001b[0;32m   3022\u001b[0m                 \u001b[0mself\u001b[0m\u001b[1;33m.\u001b[0m\u001b[0mhandle\u001b[0m\u001b[1;33m,\u001b[0m\u001b[1;33m\u001b[0m\u001b[1;33m\u001b[0m\u001b[0m\n\u001b[0;32m   3023\u001b[0m                 ctypes.byref(is_finished)))\n",
      "\u001b[1;31mKeyboardInterrupt\u001b[0m: "
     ]
    }
   ],
   "source": [
    "gbm_b = lgb.train(params,\n",
    "                lgb_train_B,\n",
    "                valid_sets=[lgb_train_B,lgb_eval_B],\n",
    "                verbose_eval=100,\n",
    "                early_stopping_rounds=100)"
   ]
  },
  {
   "cell_type": "code",
   "execution_count": null,
   "id": "536e1dbf",
   "metadata": {},
   "outputs": [],
   "source": [
    "# [3695]\ttraining's binary_logloss: 0.168303\tvalid_1's binary_logloss: 0.192544 - com vel\n",
    "\n",
    "# [1000]\ttraining's binary_logloss: 0.181995\tvalid_1's binary_logloss: 0.193215"
   ]
  },
  {
   "cell_type": "code",
   "execution_count": null,
   "id": "d5b7360f",
   "metadata": {},
   "outputs": [],
   "source": [
    "lgb.plot_importance(gbm_b,figsize=(18,12))"
   ]
  },
  {
   "cell_type": "markdown",
   "id": "f97f4244",
   "metadata": {},
   "source": [
    "# Submission"
   ]
  },
  {
   "cell_type": "code",
   "execution_count": null,
   "id": "7c7f0ba8",
   "metadata": {},
   "outputs": [],
   "source": [
    "test_sub = feather_read_reduce(f'{data_folder}test.feather').drop('id',axis=1)"
   ]
  },
  {
   "cell_type": "code",
   "execution_count": null,
   "id": "8aa00821",
   "metadata": {},
   "outputs": [],
   "source": [
    "test_sub = test_sub.assign(p0_dist_ball = lambda df_ : \n",
    "            (\n",
    "                np.square(df_['ball_pos_x']-df_[f\"p0_pos_x\"]) +\n",
    "                np.square(df_['ball_pos_y']-df_[f\"p0_pos_y\"]) +\n",
    "                np.square(df_['ball_pos_z']-df_[f\"p0_pos_z\"])\n",
    "            )**(1/2),\n",
    "            \n",
    "            p1_dist_ball = lambda df_ : \n",
    "            (\n",
    "                np.square(df_['ball_pos_x']-df_[f\"p1_pos_x\"]) +\n",
    "                np.square(df_['ball_pos_y']-df_[f\"p1_pos_y\"]) +\n",
    "                np.square(df_['ball_pos_z']-df_[f\"p1_pos_z\"])\n",
    "            )**(1/2),\n",
    "            \n",
    "            p2_dist_ball = lambda df_ : \n",
    "            (\n",
    "                np.square(df_['ball_pos_x']-df_[f\"p2_pos_x\"]) +\n",
    "                np.square(df_['ball_pos_y']-df_[f\"p2_pos_y\"]) +\n",
    "                np.square(df_['ball_pos_z']-df_[f\"p2_pos_z\"])\n",
    "            )**(1/2),\n",
    "            \n",
    "            p3_dist_ball = lambda df_ : \n",
    "            (\n",
    "                np.square(df_['ball_pos_x']-df_[f\"p3_pos_x\"]) +\n",
    "                np.square(df_['ball_pos_y']-df_[f\"p3_pos_y\"]) +\n",
    "                np.square(df_['ball_pos_z']-df_[f\"p3_pos_z\"])\n",
    "            )**(1/2),\n",
    "            \n",
    "            p4_dist_ball = lambda df_ : \n",
    "            (\n",
    "                np.square(df_['ball_pos_x']-df_[f\"p4_pos_x\"]) +\n",
    "                np.square(df_['ball_pos_y']-df_[f\"p4_pos_y\"]) +\n",
    "                np.square(df_['ball_pos_z']-df_[f\"p4_pos_z\"])\n",
    "            )**(1/2),\n",
    "            \n",
    "            p5_dist_ball = lambda df_ : \n",
    "            (\n",
    "                np.square(df_['ball_pos_x']-df_[f\"p5_pos_x\"]) +\n",
    "                np.square(df_['ball_pos_y']-df_[f\"p5_pos_y\"]) +                \n",
    "                np.square(df_['ball_pos_z']-df_[f\"p5_pos_z\"])\n",
    "            )**(1/2)\n",
    "            \n",
    ")"
   ]
  },
  {
   "cell_type": "code",
   "execution_count": null,
   "id": "632b6c2b",
   "metadata": {},
   "outputs": [],
   "source": [
    "test_sub = test_sub.assign(p0_vel = lambda df_ : \n",
    "            (\n",
    "                np.square(df_['p0_vel_x']) +\n",
    "                np.square(df_['p0_vel_y']) +\n",
    "                np.square(df_['p0_vel_z'])\n",
    "            )**(1/2),\n",
    "            \n",
    "            p1_vel = lambda df_ : \n",
    "            (\n",
    "                np.square(df_[\"p1_vel_x\"]) +\n",
    "                np.square(df_[\"p1_vel_y\"]) +\n",
    "                np.square(df_[\"p1_vel_z\"])\n",
    "            )**(1/2),\n",
    "            \n",
    "            p2_vel = lambda df_ : \n",
    "            (\n",
    "                np.square(df_[\"p2_vel_x\"]) +\n",
    "                np.square(df_[\"p2_vel_y\"]) +\n",
    "                np.square(df_[\"p2_vel_z\"])\n",
    "            )**(1/2),\n",
    "            \n",
    "            p3_vel = lambda df_ : \n",
    "            (\n",
    "                np.square(df_[\"p3_vel_x\"]) +\n",
    "                np.square(df_[\"p3_vel_y\"]) +\n",
    "                np.square(df_[\"p3_vel_z\"])\n",
    "            )**(1/2),\n",
    "            \n",
    "            p4_vel = lambda df_ : \n",
    "            (\n",
    "                np.square(df_[\"p4_vel_x\"]) +\n",
    "                np.square(df_[\"p4_vel_y\"]) +\n",
    "                np.square(df_[\"p4_vel_z\"])\n",
    "            )**(1/2),\n",
    "            \n",
    "            p5_vel = lambda df_ : \n",
    "            (\n",
    "                np.square(df_[\"p5_vel_x\"]) +\n",
    "                np.square(df_[\"p5_vel_y\"]) +\n",
    "                np.square(df_[\"p5_vel_z\"])\n",
    "            )**(1/2),\n",
    "                   \n",
    "            ball_vel = lambda df_ : \n",
    "            (\n",
    "                np.square(df_[\"ball_vel_x\"]) +\n",
    "                np.square(df_[\"ball_vel_y\"]) +\n",
    "                np.square(df_[\"ball_vel_z\"])\n",
    "            )**(1/2)\n",
    "            \n",
    ")"
   ]
  },
  {
   "cell_type": "code",
   "execution_count": null,
   "id": "39fe782a",
   "metadata": {},
   "outputs": [],
   "source": [
    "predA = gbm_a.predict(test_sub)\n",
    "predB = gbm_b.predict(test_sub)"
   ]
  },
  {
   "cell_type": "code",
   "execution_count": null,
   "id": "384fe685",
   "metadata": {},
   "outputs": [],
   "source": [
    "sub = pd.read_csv(f\"{data_folder}sample_submission.csv\")\n",
    "\n",
    "sub[\"team_A_scoring_within_10sec\"] = predA\n",
    "sub[\"team_B_scoring_within_10sec\"] = predB\n",
    "\n",
    "sub.to_csv(f\"{data_folder}final_submission.csv\",index=False)"
   ]
  },
  {
   "cell_type": "code",
   "execution_count": null,
   "id": "c8622a11",
   "metadata": {},
   "outputs": [],
   "source": [
    "result_df.to_csv(\"submission.csv\", index=False)"
   ]
  }
 ],
 "metadata": {
  "kernelspec": {
   "display_name": "Python 3 (ipykernel)",
   "language": "python",
   "name": "python3"
  },
  "language_info": {
   "codemirror_mode": {
    "name": "ipython",
    "version": 3
   },
   "file_extension": ".py",
   "mimetype": "text/x-python",
   "name": "python",
   "nbconvert_exporter": "python",
   "pygments_lexer": "ipython3",
   "version": "3.9.7"
  }
 },
 "nbformat": 4,
 "nbformat_minor": 5
}
