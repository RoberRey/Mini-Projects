{
 "cells": [
  {
   "cell_type": "code",
   "execution_count": 1,
   "id": "a09019e9",
   "metadata": {},
   "outputs": [],
   "source": [
    "import os"
   ]
  },
  {
   "cell_type": "code",
   "execution_count": 2,
   "id": "f4be49b2",
   "metadata": {},
   "outputs": [],
   "source": [
    "os.chdir('..')"
   ]
  },
  {
   "cell_type": "code",
   "execution_count": 3,
   "id": "e3406492",
   "metadata": {},
   "outputs": [
    {
     "name": "stdout",
     "output_type": "stream",
     "text": [
      ".\\tabular-playground-series-oct-2022.zip\n",
      ".\\data\\sample_submission.csv\n",
      ".\\data\\test.csv\n",
      ".\\data\\test_dtypes.csv\n",
      ".\\data\\train_0.csv\n",
      ".\\data\\train_0.feather\n",
      ".\\data\\train_1.csv\n",
      ".\\data\\train_1.feather\n",
      ".\\data\\train_2.csv\n",
      ".\\data\\train_2.feather\n",
      ".\\data\\train_3.csv\n",
      ".\\data\\train_3.feather\n",
      ".\\data\\train_4.csv\n",
      ".\\data\\train_4.feather\n",
      ".\\data\\train_5.csv\n",
      ".\\data\\train_5.feather\n",
      ".\\data\\train_6.csv\n",
      ".\\data\\train_6.feather\n",
      ".\\data\\train_7.csv\n",
      ".\\data\\train_7.feather\n",
      ".\\data\\train_8.csv\n",
      ".\\data\\train_8.feather\n",
      ".\\data\\train_9.csv\n",
      ".\\data\\train_9.feather\n",
      ".\\data\\train_dtypes.csv\n",
      ".\\notebooks\\Data - First try.ipynb\n",
      ".\\notebooks\\Data to feather.ipynb\n",
      ".\\notebooks\\.ipynb_checkpoints\\Data - First try-checkpoint.ipynb\n",
      ".\\notebooks\\.ipynb_checkpoints\\Data to feather-checkpoint.ipynb\n"
     ]
    }
   ],
   "source": [
    "for dirname, _, filenames in os.walk('.'):\n",
    "    for filename in filenames:\n",
    "        print(os.path.join(dirname, filename))"
   ]
  },
  {
   "cell_type": "code",
   "execution_count": 6,
   "id": "af6a1844",
   "metadata": {},
   "outputs": [],
   "source": [
    "import pandas as pd\n",
    "import numpy as np"
   ]
  },
  {
   "cell_type": "code",
   "execution_count": 8,
   "id": "6d531c56",
   "metadata": {},
   "outputs": [],
   "source": [
    "data_folder = \"data/\"\n",
    "results_folder = \"results/\"\n",
    "models_folder = \"models/\""
   ]
  },
  {
   "cell_type": "code",
   "execution_count": 8,
   "id": "d61fa0ab",
   "metadata": {},
   "outputs": [],
   "source": [
    "data = pd.read_csv(f'{data_folder}train_0.csv')"
   ]
  },
  {
   "cell_type": "code",
   "execution_count": 28,
   "id": "5572d33d",
   "metadata": {},
   "outputs": [
    {
     "name": "stdout",
     "output_type": "stream",
     "text": [
      "Processing 1th file...\n",
      "Processing 2th file...\n",
      "Processing 3th file...\n",
      "Processing 4th file...\n",
      "Processing 5th file...\n",
      "Processing 6th file...\n",
      "Processing 7th file...\n",
      "Processing 8th file...\n",
      "Processing 9th file...\n",
      "Processing 10th file...\n"
     ]
    }
   ],
   "source": [
    "dtypes_df = pd.read_csv(f\"{data_folder}train_dtypes.csv\")\n",
    "dtypes = {k: v for (k, v) in zip(dtypes_df.column, dtypes_df.dtype)}\n",
    "for i in range(10):\n",
    "    print(f\"Processing {i+1}th file...\")\n",
    "    df = pd.read_csv(f'{data_folder}train_{i}.csv', dtype=dtypes)\n",
    "    df.to_feather(f{data_folder}\"train_{i}.feather\")"
   ]
  },
  {
   "cell_type": "code",
   "execution_count": 10,
   "id": "748a7302",
   "metadata": {},
   "outputs": [],
   "source": [
    "dtypes_df = pd.read_csv(f\"{data_folder}test_dtypes.csv\")\n",
    "dtypes = {k: v for (k, v) in zip(dtypes_df.column, dtypes_df.dtype)}\n",
    "df = pd.read_csv(f'{data_folder}test.csv', dtype=dtypes)\n",
    "df.to_feather(f\"{data_folder}test.feather\")"
   ]
  },
  {
   "cell_type": "code",
   "execution_count": null,
   "id": "f50bd3dc",
   "metadata": {},
   "outputs": [],
   "source": []
  }
 ],
 "metadata": {
  "kernelspec": {
   "display_name": "Python 3 (ipykernel)",
   "language": "python",
   "name": "python3"
  },
  "language_info": {
   "codemirror_mode": {
    "name": "ipython",
    "version": 3
   },
   "file_extension": ".py",
   "mimetype": "text/x-python",
   "name": "python",
   "nbconvert_exporter": "python",
   "pygments_lexer": "ipython3",
   "version": "3.9.7"
  }
 },
 "nbformat": 4,
 "nbformat_minor": 5
}
