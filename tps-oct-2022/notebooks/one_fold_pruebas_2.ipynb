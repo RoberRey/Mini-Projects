{
 "cells": [
  {
   "cell_type": "code",
   "execution_count": 1,
   "id": "a09019e9",
   "metadata": {},
   "outputs": [],
   "source": [
    "import os"
   ]
  },
  {
   "cell_type": "code",
   "execution_count": 2,
   "id": "f4be49b2",
   "metadata": {},
   "outputs": [],
   "source": [
    "os.chdir('..')"
   ]
  },
  {
   "cell_type": "code",
   "execution_count": 3,
   "id": "e3406492",
   "metadata": {},
   "outputs": [
    {
     "name": "stdout",
     "output_type": "stream",
     "text": [
      ".\\tabular-playground-series-oct-2022.zip\n",
      ".\\data\\comb_final_submission.csv\n",
      ".\\data\\final_submission.csv\n",
      ".\\data\\sample_submission.csv\n",
      ".\\data\\submission.csv\n",
      ".\\data\\test.csv\n",
      ".\\data\\test.feather\n",
      ".\\data\\test_dtypes.csv\n",
      ".\\data\\train_0.csv\n",
      ".\\data\\train_0.feather\n",
      ".\\data\\train_1.csv\n",
      ".\\data\\train_1.feather\n",
      ".\\data\\train_2.csv\n",
      ".\\data\\train_2.feather\n",
      ".\\data\\train_3.csv\n",
      ".\\data\\train_3.feather\n",
      ".\\data\\train_4.csv\n",
      ".\\data\\train_4.feather\n",
      ".\\data\\train_5.csv\n",
      ".\\data\\train_5.feather\n",
      ".\\data\\train_6.csv\n",
      ".\\data\\train_6.feather\n",
      ".\\data\\train_7.csv\n",
      ".\\data\\train_7.feather\n",
      ".\\data\\train_8.csv\n",
      ".\\data\\train_8.feather\n",
      ".\\data\\train_9.csv\n",
      ".\\data\\train_9.feather\n",
      ".\\data\\train_dtypes.csv\n",
      ".\\notebooks\\Data - 80% Data - 0.19784.ipynb\n",
      ".\\notebooks\\Data - All Data - 0.19747.ipynb\n",
      ".\\notebooks\\Data - One Fold - 0.20257.ipynb\n",
      ".\\notebooks\\Data - One Fold - Pruebas 2.ipynb\n",
      ".\\notebooks\\Data - One Fold - Xgboost.ipynb\n",
      ".\\notebooks\\Data to feather.ipynb\n",
      ".\\notebooks\\.ipynb_checkpoints\\Data - 80% Data - 0.19784-checkpoint.ipynb\n",
      ".\\notebooks\\.ipynb_checkpoints\\Data - All Data - 0.19747-checkpoint.ipynb\n",
      ".\\notebooks\\.ipynb_checkpoints\\Data - One Fold - 0.20257-checkpoint.ipynb\n",
      ".\\notebooks\\.ipynb_checkpoints\\Data - One Fold - Pruebas 2-checkpoint.ipynb\n",
      ".\\notebooks\\.ipynb_checkpoints\\Data - One Fold - Xgboost-checkpoint.ipynb\n",
      ".\\notebooks\\.ipynb_checkpoints\\Data to feather-checkpoint.ipynb\n"
     ]
    }
   ],
   "source": [
    "for dirname, _, filenames in os.walk('.'):\n",
    "    for filename in filenames:\n",
    "        print(os.path.join(dirname, filename))"
   ]
  },
  {
   "cell_type": "code",
   "execution_count": 4,
   "id": "af6a1844",
   "metadata": {},
   "outputs": [],
   "source": [
    "import pandas as pd\n",
    "import numpy as np"
   ]
  },
  {
   "cell_type": "code",
   "execution_count": 5,
   "id": "6d531c56",
   "metadata": {},
   "outputs": [],
   "source": [
    "data_folder = \"data/\"\n",
    "results_folder = \"results/\"\n",
    "models_folder = \"models/\""
   ]
  },
  {
   "cell_type": "code",
   "execution_count": 6,
   "id": "438b5278",
   "metadata": {},
   "outputs": [],
   "source": [
    "def reduce_mem_usage(df, verbose=True):\n",
    "    start_mem = df.memory_usage().sum()/1024**2\n",
    "    numerics = ['int8', 'int16', 'int32', 'int64',\n",
    "                'float16', 'float32', 'float64']\n",
    "\n",
    "    for col in df.columns:\n",
    "        if col == 'team_scoring_next':\n",
    "            df[col] = df[col].astype('category')\n",
    "            continue\n",
    "        col_type = df[col].dtypes\n",
    "        limit = abs(df[col]).max()\n",
    "\n",
    "        for tp in numerics:\n",
    "            cond1 = str(col_type)[0] == tp[0]\n",
    "            if tp[0] == 'i': cond2 = limit <= np.iinfo(tp).max\n",
    "            else: cond2 = limit <= np.finfo(tp).max\n",
    "\n",
    "            if cond1 and cond2:\n",
    "                df[col] = df[col].astype(tp)\n",
    "                break\n",
    "\n",
    "    end_mem = df.memory_usage().sum()/1024**2\n",
    "\n",
    "    reduction = (start_mem - end_mem)*100/start_mem\n",
    "    if verbose:\n",
    "        print(f'[INFO] Mem. usage decreased to {end_mem:.2f}'\n",
    "              f' MB {reduction:.2f}% reduction.')\n",
    "    return df"
   ]
  },
  {
   "cell_type": "code",
   "execution_count": 9,
   "id": "0cb06a86",
   "metadata": {},
   "outputs": [],
   "source": [
    "def feather_read_reduce(path):\n",
    "    data = pd.read_feather(path)\n",
    "    reduce_mem_usage(data)\n",
    "    return data"
   ]
  },
  {
   "cell_type": "code",
   "execution_count": 10,
   "id": "d1f5097c",
   "metadata": {},
   "outputs": [
    {
     "name": "stdout",
     "output_type": "stream",
     "text": [
      "[INFO] Mem. usage decreased to 245.98 MB 44.19% reduction.\n"
     ]
    },
    {
     "data": {
      "text/html": [
       "<div>\n",
       "<style scoped>\n",
       "    .dataframe tbody tr th:only-of-type {\n",
       "        vertical-align: middle;\n",
       "    }\n",
       "\n",
       "    .dataframe tbody tr th {\n",
       "        vertical-align: top;\n",
       "    }\n",
       "\n",
       "    .dataframe thead th {\n",
       "        text-align: right;\n",
       "    }\n",
       "</style>\n",
       "<table border=\"1\" class=\"dataframe\">\n",
       "  <thead>\n",
       "    <tr style=\"text-align: right;\">\n",
       "      <th></th>\n",
       "      <th>game_num</th>\n",
       "      <th>event_id</th>\n",
       "      <th>event_time</th>\n",
       "      <th>ball_pos_x</th>\n",
       "      <th>ball_pos_y</th>\n",
       "      <th>ball_pos_z</th>\n",
       "      <th>ball_vel_x</th>\n",
       "      <th>ball_vel_y</th>\n",
       "      <th>ball_vel_z</th>\n",
       "      <th>p0_pos_x</th>\n",
       "      <th>...</th>\n",
       "      <th>boost0_timer</th>\n",
       "      <th>boost1_timer</th>\n",
       "      <th>boost2_timer</th>\n",
       "      <th>boost3_timer</th>\n",
       "      <th>boost4_timer</th>\n",
       "      <th>boost5_timer</th>\n",
       "      <th>player_scoring_next</th>\n",
       "      <th>team_scoring_next</th>\n",
       "      <th>team_A_scoring_within_10sec</th>\n",
       "      <th>team_B_scoring_within_10sec</th>\n",
       "    </tr>\n",
       "  </thead>\n",
       "  <tbody>\n",
       "    <tr>\n",
       "      <th>0</th>\n",
       "      <td>1</td>\n",
       "      <td>1002</td>\n",
       "      <td>-33.31250</td>\n",
       "      <td>-0.0</td>\n",
       "      <td>0.0</td>\n",
       "      <td>1.854492</td>\n",
       "      <td>-0.0</td>\n",
       "      <td>0.0</td>\n",
       "      <td>0.0</td>\n",
       "      <td>41.81250</td>\n",
       "      <td>...</td>\n",
       "      <td>0.0</td>\n",
       "      <td>0.0</td>\n",
       "      <td>0.0</td>\n",
       "      <td>0.0</td>\n",
       "      <td>0.0</td>\n",
       "      <td>0.0</td>\n",
       "      <td>3</td>\n",
       "      <td>B</td>\n",
       "      <td>0</td>\n",
       "      <td>0</td>\n",
       "    </tr>\n",
       "    <tr>\n",
       "      <th>1</th>\n",
       "      <td>1</td>\n",
       "      <td>1002</td>\n",
       "      <td>-33.21875</td>\n",
       "      <td>-0.0</td>\n",
       "      <td>0.0</td>\n",
       "      <td>1.854492</td>\n",
       "      <td>-0.0</td>\n",
       "      <td>0.0</td>\n",
       "      <td>0.0</td>\n",
       "      <td>42.25000</td>\n",
       "      <td>...</td>\n",
       "      <td>0.0</td>\n",
       "      <td>0.0</td>\n",
       "      <td>0.0</td>\n",
       "      <td>0.0</td>\n",
       "      <td>0.0</td>\n",
       "      <td>0.0</td>\n",
       "      <td>3</td>\n",
       "      <td>B</td>\n",
       "      <td>0</td>\n",
       "      <td>0</td>\n",
       "    </tr>\n",
       "    <tr>\n",
       "      <th>2</th>\n",
       "      <td>1</td>\n",
       "      <td>1002</td>\n",
       "      <td>-33.09375</td>\n",
       "      <td>-0.0</td>\n",
       "      <td>0.0</td>\n",
       "      <td>1.854492</td>\n",
       "      <td>-0.0</td>\n",
       "      <td>0.0</td>\n",
       "      <td>0.0</td>\n",
       "      <td>43.21875</td>\n",
       "      <td>...</td>\n",
       "      <td>0.0</td>\n",
       "      <td>0.0</td>\n",
       "      <td>0.0</td>\n",
       "      <td>0.0</td>\n",
       "      <td>0.0</td>\n",
       "      <td>0.0</td>\n",
       "      <td>3</td>\n",
       "      <td>B</td>\n",
       "      <td>0</td>\n",
       "      <td>0</td>\n",
       "    </tr>\n",
       "    <tr>\n",
       "      <th>3</th>\n",
       "      <td>1</td>\n",
       "      <td>1002</td>\n",
       "      <td>-33.00000</td>\n",
       "      <td>-0.0</td>\n",
       "      <td>0.0</td>\n",
       "      <td>1.854492</td>\n",
       "      <td>-0.0</td>\n",
       "      <td>0.0</td>\n",
       "      <td>0.0</td>\n",
       "      <td>43.90625</td>\n",
       "      <td>...</td>\n",
       "      <td>0.0</td>\n",
       "      <td>0.0</td>\n",
       "      <td>0.0</td>\n",
       "      <td>0.0</td>\n",
       "      <td>0.0</td>\n",
       "      <td>0.0</td>\n",
       "      <td>3</td>\n",
       "      <td>B</td>\n",
       "      <td>0</td>\n",
       "      <td>0</td>\n",
       "    </tr>\n",
       "    <tr>\n",
       "      <th>4</th>\n",
       "      <td>1</td>\n",
       "      <td>1002</td>\n",
       "      <td>-32.87500</td>\n",
       "      <td>-0.0</td>\n",
       "      <td>0.0</td>\n",
       "      <td>1.854492</td>\n",
       "      <td>-0.0</td>\n",
       "      <td>0.0</td>\n",
       "      <td>0.0</td>\n",
       "      <td>44.96875</td>\n",
       "      <td>...</td>\n",
       "      <td>0.0</td>\n",
       "      <td>0.0</td>\n",
       "      <td>0.0</td>\n",
       "      <td>0.0</td>\n",
       "      <td>0.0</td>\n",
       "      <td>0.0</td>\n",
       "      <td>3</td>\n",
       "      <td>B</td>\n",
       "      <td>0</td>\n",
       "      <td>0</td>\n",
       "    </tr>\n",
       "  </tbody>\n",
       "</table>\n",
       "<p>5 rows × 61 columns</p>\n",
       "</div>"
      ],
      "text/plain": [
       "   game_num  event_id  event_time  ball_pos_x  ball_pos_y  ball_pos_z  \\\n",
       "0         1      1002   -33.31250        -0.0         0.0    1.854492   \n",
       "1         1      1002   -33.21875        -0.0         0.0    1.854492   \n",
       "2         1      1002   -33.09375        -0.0         0.0    1.854492   \n",
       "3         1      1002   -33.00000        -0.0         0.0    1.854492   \n",
       "4         1      1002   -32.87500        -0.0         0.0    1.854492   \n",
       "\n",
       "   ball_vel_x  ball_vel_y  ball_vel_z  p0_pos_x  ...  boost0_timer  \\\n",
       "0        -0.0         0.0         0.0  41.81250  ...           0.0   \n",
       "1        -0.0         0.0         0.0  42.25000  ...           0.0   \n",
       "2        -0.0         0.0         0.0  43.21875  ...           0.0   \n",
       "3        -0.0         0.0         0.0  43.90625  ...           0.0   \n",
       "4        -0.0         0.0         0.0  44.96875  ...           0.0   \n",
       "\n",
       "   boost1_timer  boost2_timer  boost3_timer  boost4_timer  boost5_timer  \\\n",
       "0           0.0           0.0           0.0           0.0           0.0   \n",
       "1           0.0           0.0           0.0           0.0           0.0   \n",
       "2           0.0           0.0           0.0           0.0           0.0   \n",
       "3           0.0           0.0           0.0           0.0           0.0   \n",
       "4           0.0           0.0           0.0           0.0           0.0   \n",
       "\n",
       "   player_scoring_next  team_scoring_next  team_A_scoring_within_10sec  \\\n",
       "0                    3                  B                            0   \n",
       "1                    3                  B                            0   \n",
       "2                    3                  B                            0   \n",
       "3                    3                  B                            0   \n",
       "4                    3                  B                            0   \n",
       "\n",
       "   team_B_scoring_within_10sec  \n",
       "0                            0  \n",
       "1                            0  \n",
       "2                            0  \n",
       "3                            0  \n",
       "4                            0  \n",
       "\n",
       "[5 rows x 61 columns]"
      ]
     },
     "execution_count": 10,
     "metadata": {},
     "output_type": "execute_result"
    }
   ],
   "source": [
    "data = feather_read_reduce(f'{data_folder}train_0.feather')\n",
    "data.head()"
   ]
  },
  {
   "cell_type": "code",
   "execution_count": 11,
   "id": "2b9ee417",
   "metadata": {},
   "outputs": [
    {
     "data": {
      "text/plain": [
       "Index(['game_num', 'event_id', 'event_time', 'ball_pos_x', 'ball_pos_y',\n",
       "       'ball_pos_z', 'ball_vel_x', 'ball_vel_y', 'ball_vel_z', 'p0_pos_x',\n",
       "       'p0_pos_y', 'p0_pos_z', 'p0_vel_x', 'p0_vel_y', 'p0_vel_z', 'p0_boost',\n",
       "       'p1_pos_x', 'p1_pos_y', 'p1_pos_z', 'p1_vel_x', 'p1_vel_y', 'p1_vel_z',\n",
       "       'p1_boost', 'p2_pos_x', 'p2_pos_y', 'p2_pos_z', 'p2_vel_x', 'p2_vel_y',\n",
       "       'p2_vel_z', 'p2_boost', 'p3_pos_x', 'p3_pos_y', 'p3_pos_z', 'p3_vel_x',\n",
       "       'p3_vel_y', 'p3_vel_z', 'p3_boost', 'p4_pos_x', 'p4_pos_y', 'p4_pos_z',\n",
       "       'p4_vel_x', 'p4_vel_y', 'p4_vel_z', 'p4_boost', 'p5_pos_x', 'p5_pos_y',\n",
       "       'p5_pos_z', 'p5_vel_x', 'p5_vel_y', 'p5_vel_z', 'p5_boost',\n",
       "       'boost0_timer', 'boost1_timer', 'boost2_timer', 'boost3_timer',\n",
       "       'boost4_timer', 'boost5_timer', 'player_scoring_next',\n",
       "       'team_scoring_next', 'team_A_scoring_within_10sec',\n",
       "       'team_B_scoring_within_10sec'],\n",
       "      dtype='object')"
      ]
     },
     "execution_count": 11,
     "metadata": {},
     "output_type": "execute_result"
    }
   ],
   "source": [
    "data.columns"
   ]
  },
  {
   "cell_type": "markdown",
   "id": "a382461a",
   "metadata": {},
   "source": [
    "# Distance from the ball"
   ]
  },
  {
   "cell_type": "code",
   "execution_count": 12,
   "id": "95ad09f0",
   "metadata": {},
   "outputs": [
    {
     "data": {
      "text/plain": [
       "array([4, 0, 4], dtype=int32)"
      ]
     },
     "execution_count": 12,
     "metadata": {},
     "output_type": "execute_result"
    }
   ],
   "source": [
    "(np.array([1,2,3])-np.array([3,2,1]))**2"
   ]
  },
  {
   "cell_type": "code",
   "execution_count": 13,
   "id": "fc655013",
   "metadata": {
    "scrolled": true
   },
   "outputs": [],
   "source": [
    "data = data.assign(p0_dist_ball = lambda df_ : \n",
    "            (\n",
    "                np.square(df_['ball_pos_x']-df_[f\"p0_pos_x\"]) +\n",
    "                np.square(df_['ball_pos_y']-df_[f\"p0_pos_y\"]) +\n",
    "                np.square(df_['ball_pos_z']-df_[f\"p0_pos_z\"])\n",
    "            )**(1/2),\n",
    "            \n",
    "            p1_dist_ball = lambda df_ : \n",
    "            (\n",
    "                np.square(df_['ball_pos_x']-df_[f\"p1_pos_x\"]) +\n",
    "                np.square(df_['ball_pos_y']-df_[f\"p1_pos_y\"]) +\n",
    "                np.square(df_['ball_pos_z']-df_[f\"p1_pos_z\"])\n",
    "            )**(1/2),\n",
    "            \n",
    "            p2_dist_ball = lambda df_ : \n",
    "            (\n",
    "                np.square(df_['ball_pos_x']-df_[f\"p2_pos_x\"]) +\n",
    "                np.square(df_['ball_pos_y']-df_[f\"p2_pos_y\"]) +\n",
    "                np.square(df_['ball_pos_z']-df_[f\"p2_pos_z\"])\n",
    "            )**(1/2),\n",
    "            \n",
    "            p3_dist_ball = lambda df_ : \n",
    "            (\n",
    "                np.square(df_['ball_pos_x']-df_[f\"p3_pos_x\"]) +\n",
    "                np.square(df_['ball_pos_y']-df_[f\"p3_pos_y\"]) +\n",
    "                np.square(df_['ball_pos_z']-df_[f\"p3_pos_z\"])\n",
    "            )**(1/2),\n",
    "            \n",
    "            p4_dist_ball = lambda df_ : \n",
    "            (\n",
    "                np.square(df_['ball_pos_x']-df_[f\"p4_pos_x\"]) +\n",
    "                np.square(df_['ball_pos_y']-df_[f\"p4_pos_y\"]) +\n",
    "                np.square(df_['ball_pos_z']-df_[f\"p4_pos_z\"])\n",
    "            )**(1/2),\n",
    "            \n",
    "            p5_dist_ball = lambda df_ : \n",
    "            (\n",
    "                np.square(df_['ball_pos_x']-df_[f\"p5_pos_x\"]) +\n",
    "                np.square(df_['ball_pos_y']-df_[f\"p5_pos_y\"]) +                \n",
    "                np.square(df_['ball_pos_z']-df_[f\"p5_pos_z\"])\n",
    "            )**(1/2)\n",
    "            \n",
    ")"
   ]
  },
  {
   "cell_type": "markdown",
   "id": "ec28267c",
   "metadata": {},
   "source": [
    "# Data Analysis"
   ]
  },
  {
   "cell_type": "code",
   "execution_count": 14,
   "id": "598ed601",
   "metadata": {},
   "outputs": [
    {
     "data": {
      "text/plain": [
       "Index(['game_num', 'event_id', 'event_time', 'ball_pos_x', 'ball_pos_y',\n",
       "       'ball_pos_z', 'ball_vel_x', 'ball_vel_y', 'ball_vel_z', 'p0_pos_x',\n",
       "       'p0_pos_y', 'p0_pos_z', 'p0_vel_x', 'p0_vel_y', 'p0_vel_z', 'p0_boost',\n",
       "       'p1_pos_x', 'p1_pos_y', 'p1_pos_z', 'p1_vel_x', 'p1_vel_y', 'p1_vel_z',\n",
       "       'p1_boost', 'p2_pos_x', 'p2_pos_y', 'p2_pos_z', 'p2_vel_x', 'p2_vel_y',\n",
       "       'p2_vel_z', 'p2_boost', 'p3_pos_x', 'p3_pos_y', 'p3_pos_z', 'p3_vel_x',\n",
       "       'p3_vel_y', 'p3_vel_z', 'p3_boost', 'p4_pos_x', 'p4_pos_y', 'p4_pos_z',\n",
       "       'p4_vel_x', 'p4_vel_y', 'p4_vel_z', 'p4_boost', 'p5_pos_x', 'p5_pos_y',\n",
       "       'p5_pos_z', 'p5_vel_x', 'p5_vel_y', 'p5_vel_z', 'p5_boost',\n",
       "       'boost0_timer', 'boost1_timer', 'boost2_timer', 'boost3_timer',\n",
       "       'boost4_timer', 'boost5_timer', 'player_scoring_next',\n",
       "       'team_scoring_next', 'team_A_scoring_within_10sec',\n",
       "       'team_B_scoring_within_10sec', 'p0_dist_ball', 'p1_dist_ball',\n",
       "       'p2_dist_ball', 'p3_dist_ball', 'p4_dist_ball', 'p5_dist_ball'],\n",
       "      dtype='object')"
      ]
     },
     "execution_count": 14,
     "metadata": {},
     "output_type": "execute_result"
    }
   ],
   "source": [
    "data.columns"
   ]
  },
  {
   "cell_type": "code",
   "execution_count": 15,
   "id": "9ce57080",
   "metadata": {},
   "outputs": [
    {
     "data": {
      "text/html": [
       "<div>\n",
       "<style scoped>\n",
       "    .dataframe tbody tr th:only-of-type {\n",
       "        vertical-align: middle;\n",
       "    }\n",
       "\n",
       "    .dataframe tbody tr th {\n",
       "        vertical-align: top;\n",
       "    }\n",
       "\n",
       "    .dataframe thead th {\n",
       "        text-align: right;\n",
       "    }\n",
       "</style>\n",
       "<table border=\"1\" class=\"dataframe\">\n",
       "  <thead>\n",
       "    <tr style=\"text-align: right;\">\n",
       "      <th></th>\n",
       "      <th>game_num</th>\n",
       "      <th>event_id</th>\n",
       "      <th>event_time</th>\n",
       "      <th>ball_pos_x</th>\n",
       "      <th>ball_pos_y</th>\n",
       "      <th>ball_pos_z</th>\n",
       "      <th>ball_vel_x</th>\n",
       "      <th>ball_vel_y</th>\n",
       "      <th>ball_vel_z</th>\n",
       "      <th>p0_pos_x</th>\n",
       "      <th>...</th>\n",
       "      <th>player_scoring_next</th>\n",
       "      <th>team_scoring_next</th>\n",
       "      <th>team_A_scoring_within_10sec</th>\n",
       "      <th>team_B_scoring_within_10sec</th>\n",
       "      <th>p0_dist_ball</th>\n",
       "      <th>p1_dist_ball</th>\n",
       "      <th>p2_dist_ball</th>\n",
       "      <th>p3_dist_ball</th>\n",
       "      <th>p4_dist_ball</th>\n",
       "      <th>p5_dist_ball</th>\n",
       "    </tr>\n",
       "  </thead>\n",
       "  <tbody>\n",
       "    <tr>\n",
       "      <th>2111</th>\n",
       "      <td>2</td>\n",
       "      <td>2001</td>\n",
       "      <td>-9.945312</td>\n",
       "      <td>0.798828</td>\n",
       "      <td>11.226562</td>\n",
       "      <td>26.062500</td>\n",
       "      <td>0.981445</td>\n",
       "      <td>46.375000</td>\n",
       "      <td>29.593750</td>\n",
       "      <td>59.500000</td>\n",
       "      <td>...</td>\n",
       "      <td>0</td>\n",
       "      <td>A</td>\n",
       "      <td>1</td>\n",
       "      <td>0</td>\n",
       "      <td>113.3750</td>\n",
       "      <td>35.59375</td>\n",
       "      <td>51.68750</td>\n",
       "      <td>48.593750</td>\n",
       "      <td>48.468750</td>\n",
       "      <td>92.875000</td>\n",
       "    </tr>\n",
       "    <tr>\n",
       "      <th>2112</th>\n",
       "      <td>2</td>\n",
       "      <td>2001</td>\n",
       "      <td>-9.843750</td>\n",
       "      <td>0.921875</td>\n",
       "      <td>17.015625</td>\n",
       "      <td>29.656250</td>\n",
       "      <td>0.975586</td>\n",
       "      <td>46.187500</td>\n",
       "      <td>27.859375</td>\n",
       "      <td>56.406250</td>\n",
       "      <td>...</td>\n",
       "      <td>0</td>\n",
       "      <td>A</td>\n",
       "      <td>1</td>\n",
       "      <td>0</td>\n",
       "      <td>119.6875</td>\n",
       "      <td>42.90625</td>\n",
       "      <td>54.46875</td>\n",
       "      <td>47.968750</td>\n",
       "      <td>58.031250</td>\n",
       "      <td>90.687500</td>\n",
       "    </tr>\n",
       "    <tr>\n",
       "      <th>2113</th>\n",
       "      <td>2</td>\n",
       "      <td>2001</td>\n",
       "      <td>-9.742188</td>\n",
       "      <td>1.019531</td>\n",
       "      <td>21.625000</td>\n",
       "      <td>32.375000</td>\n",
       "      <td>0.970703</td>\n",
       "      <td>46.031250</td>\n",
       "      <td>26.484375</td>\n",
       "      <td>53.718750</td>\n",
       "      <td>...</td>\n",
       "      <td>0</td>\n",
       "      <td>A</td>\n",
       "      <td>1</td>\n",
       "      <td>0</td>\n",
       "      <td>124.3750</td>\n",
       "      <td>48.65625</td>\n",
       "      <td>56.03125</td>\n",
       "      <td>47.687500</td>\n",
       "      <td>66.437500</td>\n",
       "      <td>89.562500</td>\n",
       "    </tr>\n",
       "    <tr>\n",
       "      <th>2114</th>\n",
       "      <td>2</td>\n",
       "      <td>2001</td>\n",
       "      <td>-9.640625</td>\n",
       "      <td>1.099609</td>\n",
       "      <td>25.453125</td>\n",
       "      <td>34.500000</td>\n",
       "      <td>0.966797</td>\n",
       "      <td>45.937500</td>\n",
       "      <td>25.328125</td>\n",
       "      <td>50.562500</td>\n",
       "      <td>...</td>\n",
       "      <td>0</td>\n",
       "      <td>A</td>\n",
       "      <td>1</td>\n",
       "      <td>0</td>\n",
       "      <td>127.7500</td>\n",
       "      <td>53.59375</td>\n",
       "      <td>57.71875</td>\n",
       "      <td>47.906250</td>\n",
       "      <td>74.000000</td>\n",
       "      <td>88.562500</td>\n",
       "    </tr>\n",
       "    <tr>\n",
       "      <th>2115</th>\n",
       "      <td>2</td>\n",
       "      <td>2001</td>\n",
       "      <td>-9.546875</td>\n",
       "      <td>1.203125</td>\n",
       "      <td>30.421875</td>\n",
       "      <td>37.187500</td>\n",
       "      <td>0.961426</td>\n",
       "      <td>45.781250</td>\n",
       "      <td>23.843750</td>\n",
       "      <td>48.156250</td>\n",
       "      <td>...</td>\n",
       "      <td>0</td>\n",
       "      <td>A</td>\n",
       "      <td>1</td>\n",
       "      <td>0</td>\n",
       "      <td>132.2500</td>\n",
       "      <td>59.62500</td>\n",
       "      <td>60.31250</td>\n",
       "      <td>47.593750</td>\n",
       "      <td>85.875000</td>\n",
       "      <td>85.562500</td>\n",
       "    </tr>\n",
       "    <tr>\n",
       "      <th>...</th>\n",
       "      <td>...</td>\n",
       "      <td>...</td>\n",
       "      <td>...</td>\n",
       "      <td>...</td>\n",
       "      <td>...</td>\n",
       "      <td>...</td>\n",
       "      <td>...</td>\n",
       "      <td>...</td>\n",
       "      <td>...</td>\n",
       "      <td>...</td>\n",
       "      <td>...</td>\n",
       "      <td>...</td>\n",
       "      <td>...</td>\n",
       "      <td>...</td>\n",
       "      <td>...</td>\n",
       "      <td>...</td>\n",
       "      <td>...</td>\n",
       "      <td>...</td>\n",
       "      <td>...</td>\n",
       "      <td>...</td>\n",
       "      <td>...</td>\n",
       "    </tr>\n",
       "    <tr>\n",
       "      <th>2147370</th>\n",
       "      <td>737</td>\n",
       "      <td>737002</td>\n",
       "      <td>-0.481689</td>\n",
       "      <td>8.601562</td>\n",
       "      <td>88.562500</td>\n",
       "      <td>11.226562</td>\n",
       "      <td>25.171875</td>\n",
       "      <td>44.656250</td>\n",
       "      <td>-24.093750</td>\n",
       "      <td>-29.703125</td>\n",
       "      <td>...</td>\n",
       "      <td>2</td>\n",
       "      <td>A</td>\n",
       "      <td>1</td>\n",
       "      <td>0</td>\n",
       "      <td>75.3125</td>\n",
       "      <td>73.81250</td>\n",
       "      <td>22.12500</td>\n",
       "      <td>28.734375</td>\n",
       "      <td>11.851562</td>\n",
       "      <td>21.953125</td>\n",
       "    </tr>\n",
       "    <tr>\n",
       "      <th>2147371</th>\n",
       "      <td>737</td>\n",
       "      <td>737002</td>\n",
       "      <td>-0.379395</td>\n",
       "      <td>11.320312</td>\n",
       "      <td>93.375000</td>\n",
       "      <td>8.539062</td>\n",
       "      <td>25.093750</td>\n",
       "      <td>44.500000</td>\n",
       "      <td>-25.421875</td>\n",
       "      <td>-24.750000</td>\n",
       "      <td>...</td>\n",
       "      <td>2</td>\n",
       "      <td>A</td>\n",
       "      <td>1</td>\n",
       "      <td>0</td>\n",
       "      <td>77.4375</td>\n",
       "      <td>79.93750</td>\n",
       "      <td>26.31250</td>\n",
       "      <td>29.812500</td>\n",
       "      <td>7.398438</td>\n",
       "      <td>15.773438</td>\n",
       "    </tr>\n",
       "    <tr>\n",
       "      <th>2147372</th>\n",
       "      <td>737</td>\n",
       "      <td>737002</td>\n",
       "      <td>-0.266602</td>\n",
       "      <td>14.031250</td>\n",
       "      <td>98.187500</td>\n",
       "      <td>5.710938</td>\n",
       "      <td>25.015625</td>\n",
       "      <td>44.343750</td>\n",
       "      <td>-26.750000</td>\n",
       "      <td>-21.078125</td>\n",
       "      <td>...</td>\n",
       "      <td>2</td>\n",
       "      <td>A</td>\n",
       "      <td>1</td>\n",
       "      <td>0</td>\n",
       "      <td>80.1250</td>\n",
       "      <td>86.06250</td>\n",
       "      <td>29.96875</td>\n",
       "      <td>32.687500</td>\n",
       "      <td>5.707031</td>\n",
       "      <td>12.468750</td>\n",
       "    </tr>\n",
       "    <tr>\n",
       "      <th>2147373</th>\n",
       "      <td>737</td>\n",
       "      <td>737002</td>\n",
       "      <td>-0.149902</td>\n",
       "      <td>15.632812</td>\n",
       "      <td>102.375000</td>\n",
       "      <td>2.914062</td>\n",
       "      <td>-32.000000</td>\n",
       "      <td>9.828125</td>\n",
       "      <td>-17.296875</td>\n",
       "      <td>-14.242188</td>\n",
       "      <td>...</td>\n",
       "      <td>2</td>\n",
       "      <td>A</td>\n",
       "      <td>1</td>\n",
       "      <td>0</td>\n",
       "      <td>78.8125</td>\n",
       "      <td>91.75000</td>\n",
       "      <td>33.12500</td>\n",
       "      <td>34.812500</td>\n",
       "      <td>7.199219</td>\n",
       "      <td>9.609375</td>\n",
       "    </tr>\n",
       "    <tr>\n",
       "      <th>2147374</th>\n",
       "      <td>737</td>\n",
       "      <td>737002</td>\n",
       "      <td>-0.038147</td>\n",
       "      <td>15.859375</td>\n",
       "      <td>103.750000</td>\n",
       "      <td>2.472656</td>\n",
       "      <td>-28.906250</td>\n",
       "      <td>41.343750</td>\n",
       "      <td>-15.617188</td>\n",
       "      <td>-11.421875</td>\n",
       "      <td>...</td>\n",
       "      <td>2</td>\n",
       "      <td>A</td>\n",
       "      <td>1</td>\n",
       "      <td>0</td>\n",
       "      <td>77.3750</td>\n",
       "      <td>93.62500</td>\n",
       "      <td>33.21875</td>\n",
       "      <td>32.375000</td>\n",
       "      <td>7.476562</td>\n",
       "      <td>4.531250</td>\n",
       "    </tr>\n",
       "  </tbody>\n",
       "</table>\n",
       "<p>125332 rows × 67 columns</p>\n",
       "</div>"
      ],
      "text/plain": [
       "         game_num  event_id  event_time  ball_pos_x  ball_pos_y  ball_pos_z  \\\n",
       "2111            2      2001   -9.945312    0.798828   11.226562   26.062500   \n",
       "2112            2      2001   -9.843750    0.921875   17.015625   29.656250   \n",
       "2113            2      2001   -9.742188    1.019531   21.625000   32.375000   \n",
       "2114            2      2001   -9.640625    1.099609   25.453125   34.500000   \n",
       "2115            2      2001   -9.546875    1.203125   30.421875   37.187500   \n",
       "...           ...       ...         ...         ...         ...         ...   \n",
       "2147370       737    737002   -0.481689    8.601562   88.562500   11.226562   \n",
       "2147371       737    737002   -0.379395   11.320312   93.375000    8.539062   \n",
       "2147372       737    737002   -0.266602   14.031250   98.187500    5.710938   \n",
       "2147373       737    737002   -0.149902   15.632812  102.375000    2.914062   \n",
       "2147374       737    737002   -0.038147   15.859375  103.750000    2.472656   \n",
       "\n",
       "         ball_vel_x  ball_vel_y  ball_vel_z   p0_pos_x  ...  \\\n",
       "2111       0.981445   46.375000   29.593750  59.500000  ...   \n",
       "2112       0.975586   46.187500   27.859375  56.406250  ...   \n",
       "2113       0.970703   46.031250   26.484375  53.718750  ...   \n",
       "2114       0.966797   45.937500   25.328125  50.562500  ...   \n",
       "2115       0.961426   45.781250   23.843750  48.156250  ...   \n",
       "...             ...         ...         ...        ...  ...   \n",
       "2147370   25.171875   44.656250  -24.093750 -29.703125  ...   \n",
       "2147371   25.093750   44.500000  -25.421875 -24.750000  ...   \n",
       "2147372   25.015625   44.343750  -26.750000 -21.078125  ...   \n",
       "2147373  -32.000000    9.828125  -17.296875 -14.242188  ...   \n",
       "2147374  -28.906250   41.343750  -15.617188 -11.421875  ...   \n",
       "\n",
       "         player_scoring_next  team_scoring_next  team_A_scoring_within_10sec  \\\n",
       "2111                       0                  A                            1   \n",
       "2112                       0                  A                            1   \n",
       "2113                       0                  A                            1   \n",
       "2114                       0                  A                            1   \n",
       "2115                       0                  A                            1   \n",
       "...                      ...                ...                          ...   \n",
       "2147370                    2                  A                            1   \n",
       "2147371                    2                  A                            1   \n",
       "2147372                    2                  A                            1   \n",
       "2147373                    2                  A                            1   \n",
       "2147374                    2                  A                            1   \n",
       "\n",
       "         team_B_scoring_within_10sec  p0_dist_ball  p1_dist_ball  \\\n",
       "2111                               0      113.3750      35.59375   \n",
       "2112                               0      119.6875      42.90625   \n",
       "2113                               0      124.3750      48.65625   \n",
       "2114                               0      127.7500      53.59375   \n",
       "2115                               0      132.2500      59.62500   \n",
       "...                              ...           ...           ...   \n",
       "2147370                            0       75.3125      73.81250   \n",
       "2147371                            0       77.4375      79.93750   \n",
       "2147372                            0       80.1250      86.06250   \n",
       "2147373                            0       78.8125      91.75000   \n",
       "2147374                            0       77.3750      93.62500   \n",
       "\n",
       "         p2_dist_ball  p3_dist_ball  p4_dist_ball  p5_dist_ball  \n",
       "2111         51.68750     48.593750     48.468750     92.875000  \n",
       "2112         54.46875     47.968750     58.031250     90.687500  \n",
       "2113         56.03125     47.687500     66.437500     89.562500  \n",
       "2114         57.71875     47.906250     74.000000     88.562500  \n",
       "2115         60.31250     47.593750     85.875000     85.562500  \n",
       "...               ...           ...           ...           ...  \n",
       "2147370      22.12500     28.734375     11.851562     21.953125  \n",
       "2147371      26.31250     29.812500      7.398438     15.773438  \n",
       "2147372      29.96875     32.687500      5.707031     12.468750  \n",
       "2147373      33.12500     34.812500      7.199219      9.609375  \n",
       "2147374      33.21875     32.375000      7.476562      4.531250  \n",
       "\n",
       "[125332 rows x 67 columns]"
      ]
     },
     "execution_count": 15,
     "metadata": {},
     "output_type": "execute_result"
    }
   ],
   "source": [
    "data[data.team_A_scoring_within_10sec != 0]"
   ]
  },
  {
   "cell_type": "markdown",
   "id": "d98daf03",
   "metadata": {},
   "source": [
    "# Model A"
   ]
  },
  {
   "cell_type": "code",
   "execution_count": 16,
   "id": "d220fdac",
   "metadata": {},
   "outputs": [],
   "source": [
    "from sklearn.model_selection import train_test_split\n",
    "from sklearn.model_selection import GroupShuffleSplit \n",
    "import lightgbm as lgb"
   ]
  },
  {
   "cell_type": "code",
   "execution_count": 17,
   "id": "ca400f04",
   "metadata": {},
   "outputs": [],
   "source": [
    "splitter = GroupShuffleSplit(test_size=.2, n_splits=1, random_state = 42)\n",
    "split = splitter.split(data, groups=data['game_num'])\n",
    "train_inds, test_inds = next(split)"
   ]
  },
  {
   "cell_type": "code",
   "execution_count": 18,
   "id": "1421eeed",
   "metadata": {},
   "outputs": [],
   "source": [
    "train = data.iloc[train_inds]\n",
    "test = data.iloc[test_inds]"
   ]
  },
  {
   "cell_type": "code",
   "execution_count": 19,
   "id": "e4df60d3",
   "metadata": {},
   "outputs": [],
   "source": [
    "train_A = train.drop(columns=['game_num','event_id','event_time','player_scoring_next','team_scoring_next','team_B_scoring_within_10sec'])\n",
    "test_A = test.drop(columns=['game_num','event_id','event_time','player_scoring_next','team_scoring_next','team_B_scoring_within_10sec'])"
   ]
  },
  {
   "cell_type": "code",
   "execution_count": 20,
   "id": "e9dae971",
   "metadata": {},
   "outputs": [],
   "source": [
    "X_train_A = train_A.drop('team_A_scoring_within_10sec',axis=1)\n",
    "y_train_A = train_A.team_A_scoring_within_10sec\n",
    "\n",
    "X_test_A = test_A.drop('team_A_scoring_within_10sec',axis=1)\n",
    "y_test_A = test_A.team_A_scoring_within_10sec"
   ]
  },
  {
   "cell_type": "code",
   "execution_count": 21,
   "id": "42b56505",
   "metadata": {},
   "outputs": [],
   "source": [
    "# X_train, X_test, y_train, y_test = train_test_split(data_A.drop('team_A_scoring_within_10sec',axis=1),data_A.team_A_scoring_within_10sec, test_size=0.2, random_state=42)"
   ]
  },
  {
   "cell_type": "code",
   "execution_count": 22,
   "id": "d4aea489",
   "metadata": {},
   "outputs": [],
   "source": [
    "lgb_train_A = lgb.Dataset(X_train_A,y_train_A)\n",
    "lgb_eval_A  = lgb.Dataset(X_test_A,y_test_A)"
   ]
  },
  {
   "cell_type": "code",
   "execution_count": 39,
   "id": "5f90ed70",
   "metadata": {},
   "outputs": [],
   "source": [
    "params = {\n",
    "    'boosting_type': 'gbdt',\n",
    "    'objective': 'binary',\n",
    "    'metric' : 'binary_logloss',\n",
    "    'n_estimators':3000,\n",
    "#     'num_leaves': 31,\n",
    "    'learning_rate': 0.025,\n",
    "     'feature_fraction': 0.7,\n",
    "     'bagging_fraction': 0.7,\n",
    "     'bagging_freq': 5,\n",
    "#     cross-entropy\n",
    "    'verbose': -1,\n",
    "    'device': 'gpu',\n",
    "    'max_depth' : 10,\n",
    "#     'min_data_in_leaf' : \n",
    "}"
   ]
  },
  {
   "cell_type": "code",
   "execution_count": 40,
   "id": "94baac01",
   "metadata": {},
   "outputs": [
    {
     "name": "stdout",
     "output_type": "stream",
     "text": [
      "Training until validation scores don't improve for 100 rounds\n",
      "[100]\ttraining's binary_logloss: 0.195435\tvalid_1's binary_logloss: 0.211948\n",
      "[200]\ttraining's binary_logloss: 0.188544\tvalid_1's binary_logloss: 0.210113\n",
      "[300]\ttraining's binary_logloss: 0.183374\tvalid_1's binary_logloss: 0.20926\n",
      "[400]\ttraining's binary_logloss: 0.178919\tvalid_1's binary_logloss: 0.208732\n",
      "[500]\ttraining's binary_logloss: 0.17497\tvalid_1's binary_logloss: 0.208507\n",
      "[600]\ttraining's binary_logloss: 0.171248\tvalid_1's binary_logloss: 0.208417\n",
      "[700]\ttraining's binary_logloss: 0.16793\tvalid_1's binary_logloss: 0.208426\n",
      "[800]\ttraining's binary_logloss: 0.16479\tvalid_1's binary_logloss: 0.208325\n",
      "[900]\ttraining's binary_logloss: 0.161853\tvalid_1's binary_logloss: 0.208368\n",
      "Early stopping, best iteration is:\n",
      "[811]\ttraining's binary_logloss: 0.164479\tvalid_1's binary_logloss: 0.208323\n"
     ]
    }
   ],
   "source": [
    "gbm_a = lgb.train(params,\n",
    "                lgb_train_A,\n",
    "                valid_sets=[lgb_train_A,lgb_eval_A],\n",
    "                verbose_eval=100,\n",
    "                early_stopping_rounds=100)"
   ]
  },
  {
   "cell_type": "code",
   "execution_count": 117,
   "id": "e55b7273",
   "metadata": {},
   "outputs": [],
   "source": [
    "# [782]\ttraining's binary_logloss: 0.163415\tvalid_1's binary_logloss: 0.208039 bag freq 5 y 0.7 10 depth"
   ]
  },
  {
   "cell_type": "code",
   "execution_count": 77,
   "id": "2830dc62",
   "metadata": {},
   "outputs": [
    {
     "data": {
      "text/plain": [
       "<AxesSubplot:title={'center':'Feature importance'}, xlabel='Feature importance', ylabel='Features'>"
      ]
     },
     "execution_count": 77,
     "metadata": {},
     "output_type": "execute_result"
    },
    {
     "data": {
      "image/png": "[encoded data removed]",
      "text/plain": [
       "<Figure size 1296x864 with 1 Axes>"
      ]
     },
     "metadata": {
      "needs_background": "light"
     },
     "output_type": "display_data"
    }
   ],
   "source": [
    "lgb.plot_importance(gbm_a,figsize=(18,12))"
   ]
  },
  {
   "cell_type": "code",
   "execution_count": 43,
   "id": "fd6143f7",
   "metadata": {},
   "outputs": [],
   "source": [
    "import shap"
   ]
  },
  {
   "cell_type": "code",
   "execution_count": 45,
   "id": "9c98bbc9",
   "metadata": {},
   "outputs": [
    {
     "name": "stdout",
     "output_type": "stream",
     "text": [
      "Wall time: 6min 20s\n"
     ]
    },
    {
     "name": "stderr",
     "output_type": "stream",
     "text": [
      "LightGBM binary classifier with TreeExplainer shap values output has changed to a list of ndarray\n"
     ]
    }
   ],
   "source": [
    "%time shap_values = shap.TreeExplainer(gbm_a).shap_values(X_test_A)"
   ]
  },
  {
   "cell_type": "code",
   "execution_count": null,
   "id": "08a2e8d0",
   "metadata": {},
   "outputs": [
    {
     "name": "stderr",
     "output_type": "stream",
     "text": [
      "  2%|                   | 36461/1715063 [11:34<532:30]       "
     ]
    }
   ],
   "source": [
    "shap_values = explainer.shap_values(X_train_A)"
   ]
  },
  {
   "cell_type": "code",
   "execution_count": 47,
   "id": "1b69c101",
   "metadata": {
    "scrolled": true
   },
   "outputs": [
    {
     "data": {
      "image/png": "[encoded data removed]",
      "text/plain": [
       "<Figure size 576x684 with 1 Axes>"
      ]
     },
     "metadata": {
      "needs_background": "light"
     },
     "output_type": "display_data"
    }
   ],
   "source": [
    "shap.summary_plot(shap_values, X_test_A)"
   ]
  },
  {
   "cell_type": "code",
   "execution_count": null,
   "id": "15023777",
   "metadata": {},
   "outputs": [],
   "source": [
    "explainer = shap.TreeExplainer(gbm_a, data=X_train_A)"
   ]
  },
  {
   "cell_type": "code",
   "execution_count": null,
   "id": "e34dea0e",
   "metadata": {},
   "outputs": [],
   "source": [
    "shap_values = explainer.shap_values(X_train_A)"
   ]
  },
  {
   "cell_type": "code",
   "execution_count": null,
   "id": "6d371634",
   "metadata": {},
   "outputs": [],
   "source": [
    "shap.summary_plot(shap_values=shap_values,\n",
    "                  features=X_train,\n",
    "                  feature_names=X_train.columns\n",
    "                 )"
   ]
  },
  {
   "cell_type": "markdown",
   "id": "693249b7",
   "metadata": {},
   "source": [
    "# Model B"
   ]
  },
  {
   "cell_type": "code",
   "execution_count": 69,
   "id": "e46a7262",
   "metadata": {},
   "outputs": [],
   "source": [
    "train_B = train.drop(columns=['game_num','event_id','event_time','player_scoring_next','team_scoring_next','team_A_scoring_within_10sec'])\n",
    "test_B = test.drop(columns=['game_num','event_id','event_time','player_scoring_next','team_scoring_next','team_A_scoring_within_10sec'])"
   ]
  },
  {
   "cell_type": "code",
   "execution_count": 71,
   "id": "87f47c3a",
   "metadata": {},
   "outputs": [],
   "source": [
    "X_train_B = train_B.drop('team_B_scoring_within_10sec',axis=1)\n",
    "y_train_B = train_B.team_B_scoring_within_10sec\n",
    "\n",
    "X_test_B = test_B.drop('team_B_scoring_within_10sec',axis=1)\n",
    "y_test_B = test_B.team_B_scoring_within_10sec"
   ]
  },
  {
   "cell_type": "code",
   "execution_count": 120,
   "id": "4d78debb",
   "metadata": {},
   "outputs": [],
   "source": [
    "X_train, X_test, y_train, y_test = train_test_split(data_B.drop('team_B_scoring_within_10sec',axis=1),data_B.team_B_scoring_within_10sec, test_size=0.2, random_state=42)"
   ]
  },
  {
   "cell_type": "code",
   "execution_count": 72,
   "id": "3ecf7ce7",
   "metadata": {},
   "outputs": [],
   "source": [
    "lgb_train_B = lgb.Dataset(X_train_B,y_train_B)\n",
    "lgb_eval_B  = lgb.Dataset(X_test_B,y_test_B)"
   ]
  },
  {
   "cell_type": "code",
   "execution_count": 73,
   "id": "dd5582d2",
   "metadata": {},
   "outputs": [],
   "source": [
    "params = {\n",
    "    'boosting_type': 'gbdt',\n",
    "    'objective': 'binary',\n",
    "    'metric' : 'binary_logloss',\n",
    "    'n_estimators':1000,\n",
    "#     'num_leaves': 31,\n",
    "    'learning_rate': 0.03,\n",
    "     'feature_fraction': 0.8,\n",
    "     'bagging_fraction': 0.8,\n",
    "     'bagging_freq': 5,\n",
    "#     cross-entropy\n",
    "    'verbose': -1,\n",
    "    'device': 'gpu'\n",
    "}"
   ]
  },
  {
   "cell_type": "code",
   "execution_count": 74,
   "id": "122741a1",
   "metadata": {},
   "outputs": [
    {
     "name": "stdout",
     "output_type": "stream",
     "text": [
      "Training until validation scores don't improve for 100 rounds\n",
      "[100]\ttraining's binary_logloss: 0.191528\tvalid_1's binary_logloss: 0.188945\n",
      "[200]\ttraining's binary_logloss: 0.183491\tvalid_1's binary_logloss: 0.187527\n",
      "[300]\ttraining's binary_logloss: 0.177149\tvalid_1's binary_logloss: 0.186974\n",
      "[400]\ttraining's binary_logloss: 0.171751\tvalid_1's binary_logloss: 0.186769\n",
      "[500]\ttraining's binary_logloss: 0.166964\tvalid_1's binary_logloss: 0.186618\n",
      "[600]\ttraining's binary_logloss: 0.162527\tvalid_1's binary_logloss: 0.186621\n",
      "Early stopping, best iteration is:\n",
      "[553]\ttraining's binary_logloss: 0.164615\tvalid_1's binary_logloss: 0.186589\n"
     ]
    }
   ],
   "source": [
    "gbm_b = lgb.train(params,\n",
    "                lgb_train_B,\n",
    "                valid_sets=[lgb_train_B,lgb_eval_B],\n",
    "                verbose_eval=100,\n",
    "                early_stopping_rounds=100)"
   ]
  },
  {
   "cell_type": "code",
   "execution_count": 75,
   "id": "536e1dbf",
   "metadata": {},
   "outputs": [],
   "source": [
    "# [10000]\ttraining's binary_logloss: 0.00450018\tvalid_1's binary_logloss: 0.0152842"
   ]
  },
  {
   "cell_type": "code",
   "execution_count": 76,
   "id": "d5b7360f",
   "metadata": {},
   "outputs": [
    {
     "data": {
      "text/plain": [
       "<AxesSubplot:title={'center':'Feature importance'}, xlabel='Feature importance', ylabel='Features'>"
      ]
     },
     "execution_count": 76,
     "metadata": {},
     "output_type": "execute_result"
    },
    {
     "data": {
      "image/png": "[encoded data removed]",
      "text/plain": [
       "<Figure size 1296x864 with 1 Axes>"
      ]
     },
     "metadata": {
      "needs_background": "light"
     },
     "output_type": "display_data"
    }
   ],
   "source": [
    "lgb.plot_importance(gbm_b,figsize=(18,12))"
   ]
  },
  {
   "cell_type": "markdown",
   "id": "f97f4244",
   "metadata": {},
   "source": [
    "# Submission"
   ]
  },
  {
   "cell_type": "code",
   "execution_count": 80,
   "id": "7c7f0ba8",
   "metadata": {},
   "outputs": [
    {
     "name": "stdout",
     "output_type": "stream",
     "text": [
      "[INFO] Mem. usage decreased to 74.89 MB 44.00% reduction.\n"
     ]
    }
   ],
   "source": [
    "test_sub = feather_read_reduce(f'{data_folder}test.feather').drop('id',axis=1)"
   ]
  },
  {
   "cell_type": "code",
   "execution_count": 83,
   "id": "8aa00821",
   "metadata": {},
   "outputs": [],
   "source": [
    "test_sub = test_sub.assign(p0_dist_ball = lambda df_ : \n",
    "            (\n",
    "                np.square(df_['ball_pos_x']-df_[f\"p0_pos_x\"]) +\n",
    "                np.square(df_['ball_pos_y']-df_[f\"p0_pos_y\"]) +\n",
    "                np.square(df_['ball_pos_z']-df_[f\"p0_pos_z\"])\n",
    "            )**(1/2),\n",
    "            \n",
    "            p1_dist_ball = lambda df_ : \n",
    "            (\n",
    "                np.square(df_['ball_pos_x']-df_[f\"p1_pos_x\"]) +\n",
    "                np.square(df_['ball_pos_y']-df_[f\"p1_pos_y\"]) +\n",
    "                np.square(df_['ball_pos_z']-df_[f\"p1_pos_z\"])\n",
    "            )**(1/2),\n",
    "            \n",
    "            p2_dist_ball = lambda df_ : \n",
    "            (\n",
    "                np.square(df_['ball_pos_x']-df_[f\"p2_pos_x\"]) +\n",
    "                np.square(df_['ball_pos_y']-df_[f\"p2_pos_y\"]) +\n",
    "                np.square(df_['ball_pos_z']-df_[f\"p2_pos_z\"])\n",
    "            )**(1/2),\n",
    "            \n",
    "            p3_dist_ball = lambda df_ : \n",
    "            (\n",
    "                np.square(df_['ball_pos_x']-df_[f\"p3_pos_x\"]) +\n",
    "                np.square(df_['ball_pos_y']-df_[f\"p3_pos_y\"]) +\n",
    "                np.square(df_['ball_pos_z']-df_[f\"p3_pos_z\"])\n",
    "            )**(1/2),\n",
    "            \n",
    "            p4_dist_ball = lambda df_ : \n",
    "            (\n",
    "                np.square(df_['ball_pos_x']-df_[f\"p4_pos_x\"]) +\n",
    "                np.square(df_['ball_pos_y']-df_[f\"p4_pos_y\"]) +\n",
    "                np.square(df_['ball_pos_z']-df_[f\"p4_pos_z\"])\n",
    "            )**(1/2),\n",
    "            \n",
    "            p5_dist_ball = lambda df_ : \n",
    "            (\n",
    "                np.square(df_['ball_pos_x']-df_[f\"p5_pos_x\"]) +\n",
    "                np.square(df_['ball_pos_y']-df_[f\"p5_pos_y\"]) +                \n",
    "                np.square(df_['ball_pos_z']-df_[f\"p5_pos_z\"])\n",
    "            )**(1/2)\n",
    "            \n",
    ")"
   ]
  },
  {
   "cell_type": "code",
   "execution_count": 84,
   "id": "39fe782a",
   "metadata": {},
   "outputs": [],
   "source": [
    "predA = gbm_a.predict(test_sub)\n",
    "predB = gbm_b.predict(test_sub)"
   ]
  },
  {
   "cell_type": "code",
   "execution_count": 85,
   "id": "384fe685",
   "metadata": {},
   "outputs": [],
   "source": [
    "sub = pd.read_csv(f\"{data_folder}sample_submission.csv\")\n",
    "\n",
    "sub[\"team_A_scoring_within_10sec\"] = predA\n",
    "sub[\"team_B_scoring_within_10sec\"] = predB\n",
    "\n",
    "sub.to_csv(f\"{data_folder}final_submission.csv\",index=False)"
   ]
  },
  {
   "cell_type": "code",
   "execution_count": null,
   "id": "9a5df401",
   "metadata": {},
   "outputs": [],
   "source": []
  }
 ],
 "metadata": {
  "kernelspec": {
   "display_name": "Python 3 (ipykernel)",
   "language": "python",
   "name": "python3"
  },
  "language_info": {
   "codemirror_mode": {
    "name": "ipython",
    "version": 3
   },
   "file_extension": ".py",
   "mimetype": "text/x-python",
   "name": "python",
   "nbconvert_exporter": "python",
   "pygments_lexer": "ipython3",
   "version": "3.9.7"
  }
 },
 "nbformat": 4,
 "nbformat_minor": 5
}
