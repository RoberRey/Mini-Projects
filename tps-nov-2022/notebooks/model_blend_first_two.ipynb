{
 "cells": [
  {
   "cell_type": "code",
   "execution_count": 3,
   "id": "6e31325e",
   "metadata": {},
   "outputs": [],
   "source": [
    "import os"
   ]
  },
  {
   "cell_type": "code",
   "execution_count": 4,
   "id": "54b7cbfa",
   "metadata": {},
   "outputs": [
    {
     "data": {
      "text/plain": [
       "'C:\\\\Users\\\\Usuario\\\\Desktop\\\\Data Science\\\\Kaggle\\\\tps-nov-2022\\\\notebooks'"
      ]
     },
     "execution_count": 4,
     "metadata": {},
     "output_type": "execute_result"
    }
   ],
   "source": [
    "os.getcwd()"
   ]
  },
  {
   "cell_type": "code",
   "execution_count": 5,
   "id": "9cc94fdd",
   "metadata": {},
   "outputs": [],
   "source": [
    "import numpy as np\n",
    "import pandas as pd"
   ]
  },
  {
   "cell_type": "code",
   "execution_count": 6,
   "id": "5149e16d",
   "metadata": {},
   "outputs": [],
   "source": [
    "os.chdir('..')"
   ]
  },
  {
   "cell_type": "code",
   "execution_count": 7,
   "id": "943be798",
   "metadata": {},
   "outputs": [
    {
     "data": {
      "text/plain": [
       "['sample_submission.csv',\n",
       " 'submission_files',\n",
       " 'submission_try.csv',\n",
       " 'tabular-playground-series-nov-2022.zip',\n",
       " 'train_labels.csv']"
      ]
     },
     "execution_count": 7,
     "metadata": {},
     "output_type": "execute_result"
    }
   ],
   "source": [
    "os.listdir('data')"
   ]
  },
  {
   "cell_type": "code",
   "execution_count": 8,
   "id": "609b6803",
   "metadata": {},
   "outputs": [],
   "source": [
    "data_folder = './data/'\n",
    "data_submission_folder = './data/submission_files/'"
   ]
  },
  {
   "cell_type": "code",
   "execution_count": 9,
   "id": "2d7c9deb",
   "metadata": {},
   "outputs": [],
   "source": [
    "files = os.listdir(data_submission_folder)"
   ]
  },
  {
   "cell_type": "code",
   "execution_count": 11,
   "id": "6e8690f5",
   "metadata": {},
   "outputs": [],
   "source": [
    "num_files = 0\n",
    "preds = np.zeros(40000)\n",
    "for file in files[0:2]:\n",
    "    num_files += 1\n",
    "    data_file = pd.read_csv(f'{data_submission_folder}{file}')\n",
    "    preds += data_file.pred\n",
    "preds /= num_files"
   ]
  },
  {
   "cell_type": "code",
   "execution_count": 12,
   "id": "0060458e",
   "metadata": {},
   "outputs": [],
   "source": [
    "preds_df = pd.DataFrame(preds).reset_index()"
   ]
  },
  {
   "cell_type": "code",
   "execution_count": 13,
   "id": "607efda8",
   "metadata": {},
   "outputs": [
    {
     "data": {
      "text/html": [
       "<div>\n",
       "<style scoped>\n",
       "    .dataframe tbody tr th:only-of-type {\n",
       "        vertical-align: middle;\n",
       "    }\n",
       "\n",
       "    .dataframe tbody tr th {\n",
       "        vertical-align: top;\n",
       "    }\n",
       "\n",
       "    .dataframe thead th {\n",
       "        text-align: right;\n",
       "    }\n",
       "</style>\n",
       "<table border=\"1\" class=\"dataframe\">\n",
       "  <thead>\n",
       "    <tr style=\"text-align: right;\">\n",
       "      <th></th>\n",
       "      <th>index</th>\n",
       "      <th>pred</th>\n",
       "    </tr>\n",
       "  </thead>\n",
       "  <tbody>\n",
       "    <tr>\n",
       "      <th>0</th>\n",
       "      <td>0</td>\n",
       "      <td>0.754171</td>\n",
       "    </tr>\n",
       "    <tr>\n",
       "      <th>1</th>\n",
       "      <td>1</td>\n",
       "      <td>0.408721</td>\n",
       "    </tr>\n",
       "    <tr>\n",
       "      <th>2</th>\n",
       "      <td>2</td>\n",
       "      <td>0.758861</td>\n",
       "    </tr>\n",
       "    <tr>\n",
       "      <th>3</th>\n",
       "      <td>3</td>\n",
       "      <td>0.529082</td>\n",
       "    </tr>\n",
       "    <tr>\n",
       "      <th>4</th>\n",
       "      <td>4</td>\n",
       "      <td>0.933838</td>\n",
       "    </tr>\n",
       "    <tr>\n",
       "      <th>...</th>\n",
       "      <td>...</td>\n",
       "      <td>...</td>\n",
       "    </tr>\n",
       "    <tr>\n",
       "      <th>39995</th>\n",
       "      <td>39995</td>\n",
       "      <td>0.335750</td>\n",
       "    </tr>\n",
       "    <tr>\n",
       "      <th>39996</th>\n",
       "      <td>39996</td>\n",
       "      <td>0.326460</td>\n",
       "    </tr>\n",
       "    <tr>\n",
       "      <th>39997</th>\n",
       "      <td>39997</td>\n",
       "      <td>0.625650</td>\n",
       "    </tr>\n",
       "    <tr>\n",
       "      <th>39998</th>\n",
       "      <td>39998</td>\n",
       "      <td>0.751987</td>\n",
       "    </tr>\n",
       "    <tr>\n",
       "      <th>39999</th>\n",
       "      <td>39999</td>\n",
       "      <td>0.509556</td>\n",
       "    </tr>\n",
       "  </tbody>\n",
       "</table>\n",
       "<p>40000 rows × 2 columns</p>\n",
       "</div>"
      ],
      "text/plain": [
       "       index      pred\n",
       "0          0  0.754171\n",
       "1          1  0.408721\n",
       "2          2  0.758861\n",
       "3          3  0.529082\n",
       "4          4  0.933838\n",
       "...      ...       ...\n",
       "39995  39995  0.335750\n",
       "39996  39996  0.326460\n",
       "39997  39997  0.625650\n",
       "39998  39998  0.751987\n",
       "39999  39999  0.509556\n",
       "\n",
       "[40000 rows x 2 columns]"
      ]
     },
     "execution_count": 13,
     "metadata": {},
     "output_type": "execute_result"
    }
   ],
   "source": [
    "preds_df"
   ]
  },
  {
   "cell_type": "code",
   "execution_count": 14,
   "id": "cf797251",
   "metadata": {},
   "outputs": [],
   "source": [
    "preds_df.columns = ['id', 'pred']"
   ]
  },
  {
   "cell_type": "code",
   "execution_count": 15,
   "id": "9a01d1b4",
   "metadata": {},
   "outputs": [],
   "source": [
    "submission = preds_df[preds_df.id >= 20000]"
   ]
  },
  {
   "cell_type": "code",
   "execution_count": 16,
   "id": "0d299911",
   "metadata": {},
   "outputs": [],
   "source": [
    "submission.to_csv(f'{data_folder}submission_try.csv', index=False)"
   ]
  },
  {
   "cell_type": "code",
   "execution_count": null,
   "id": "99d27757",
   "metadata": {},
   "outputs": [],
   "source": []
  }
 ],
 "metadata": {
  "kernelspec": {
   "display_name": "Python 3 (ipykernel)",
   "language": "python",
   "name": "python3"
  },
  "language_info": {
   "codemirror_mode": {
    "name": "ipython",
    "version": 3
   },
   "file_extension": ".py",
   "mimetype": "text/x-python",
   "name": "python",
   "nbconvert_exporter": "python",
   "pygments_lexer": "ipython3",
   "version": "3.9.7"
  }
 },
 "nbformat": 4,
 "nbformat_minor": 5
}
