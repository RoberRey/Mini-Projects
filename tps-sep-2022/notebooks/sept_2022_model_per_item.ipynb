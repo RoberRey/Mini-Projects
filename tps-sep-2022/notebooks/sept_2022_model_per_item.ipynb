{
 "cells": [
  {
   "cell_type": "code",
   "execution_count": 1,
   "id": "2b0c75c8",
   "metadata": {},
   "outputs": [],
   "source": [
    "import pandas as pd\n",
    "import seaborn as sns\n",
    "import matplotlib.pyplot as plt\n",
    "import os\n",
    "import lightgbm as lgb\n",
    "from sklearn.preprocessing import OrdinalEncoder\n",
    "import numpy as np\n",
    "import holidays\n",
    "from sklearn.metrics import mean_absolute_percentage_error\n",
    "from sklearn.metrics import mean_squared_error\n",
    "import optuna"
   ]
  },
  {
   "cell_type": "code",
   "execution_count": 2,
   "id": "3526e7b7",
   "metadata": {},
   "outputs": [],
   "source": [
    "os.chdir('..')"
   ]
  },
  {
   "cell_type": "code",
   "execution_count": 3,
   "id": "cb3e451a",
   "metadata": {},
   "outputs": [],
   "source": [
    "sample_submission = pd.read_csv('./data/sample_submission.csv')\n",
    "test = pd.read_csv('./data/test.csv')\n",
    "train = pd.read_csv('./data/train.csv')"
   ]
  },
  {
   "cell_type": "code",
   "execution_count": 4,
   "id": "91ccc5b8",
   "metadata": {},
   "outputs": [],
   "source": [
    "train = train.assign(date=lambda df_ : pd.to_datetime(df_.date))\n",
    "test = test.assign(date=lambda df_ : pd.to_datetime(df_.date))"
   ]
  },
  {
   "cell_type": "markdown",
   "id": "722cb53c",
   "metadata": {},
   "source": [
    "# Preprocessing"
   ]
  },
  {
   "cell_type": "code",
   "execution_count": 18,
   "id": "99274947",
   "metadata": {},
   "outputs": [],
   "source": [
    "data = train.append(test)"
   ]
  },
  {
   "cell_type": "code",
   "execution_count": 19,
   "id": "c9e080b0",
   "metadata": {},
   "outputs": [],
   "source": [
    "data = data.assign(day_month = lambda df_ : df_.date.dt.day\n",
    "            ,month = lambda df_ : df_.date.dt.month\n",
    "            ,year = lambda df_ : df_.date.dt.year\n",
    "            ,day_week = lambda df_ : df_.date.dt.dayofweek\n",
    "            ,day_year = lambda df_ : df_.date.dt.dayofyear)"
   ]
  },
  {
   "cell_type": "code",
   "execution_count": 20,
   "id": "feece5c6",
   "metadata": {},
   "outputs": [
    {
     "data": {
      "text/html": [
       "<div>\n",
       "<style scoped>\n",
       "    .dataframe tbody tr th:only-of-type {\n",
       "        vertical-align: middle;\n",
       "    }\n",
       "\n",
       "    .dataframe tbody tr th {\n",
       "        vertical-align: top;\n",
       "    }\n",
       "\n",
       "    .dataframe thead th {\n",
       "        text-align: right;\n",
       "    }\n",
       "</style>\n",
       "<table border=\"1\" class=\"dataframe\">\n",
       "  <thead>\n",
       "    <tr style=\"text-align: right;\">\n",
       "      <th></th>\n",
       "      <th>row_id</th>\n",
       "      <th>date</th>\n",
       "      <th>country</th>\n",
       "      <th>store</th>\n",
       "      <th>product</th>\n",
       "      <th>num_sold</th>\n",
       "      <th>day_month</th>\n",
       "      <th>month</th>\n",
       "      <th>year</th>\n",
       "      <th>day_week</th>\n",
       "      <th>day_year</th>\n",
       "    </tr>\n",
       "  </thead>\n",
       "  <tbody>\n",
       "    <tr>\n",
       "      <th>0</th>\n",
       "      <td>0</td>\n",
       "      <td>2017-01-01</td>\n",
       "      <td>Belgium</td>\n",
       "      <td>KaggleMart</td>\n",
       "      <td>Kaggle Advanced Techniques</td>\n",
       "      <td>663.0</td>\n",
       "      <td>1</td>\n",
       "      <td>1</td>\n",
       "      <td>2017</td>\n",
       "      <td>6</td>\n",
       "      <td>1</td>\n",
       "    </tr>\n",
       "    <tr>\n",
       "      <th>1</th>\n",
       "      <td>1</td>\n",
       "      <td>2017-01-01</td>\n",
       "      <td>Belgium</td>\n",
       "      <td>KaggleMart</td>\n",
       "      <td>Kaggle Getting Started</td>\n",
       "      <td>615.0</td>\n",
       "      <td>1</td>\n",
       "      <td>1</td>\n",
       "      <td>2017</td>\n",
       "      <td>6</td>\n",
       "      <td>1</td>\n",
       "    </tr>\n",
       "    <tr>\n",
       "      <th>2</th>\n",
       "      <td>2</td>\n",
       "      <td>2017-01-01</td>\n",
       "      <td>Belgium</td>\n",
       "      <td>KaggleMart</td>\n",
       "      <td>Kaggle Recipe Book</td>\n",
       "      <td>480.0</td>\n",
       "      <td>1</td>\n",
       "      <td>1</td>\n",
       "      <td>2017</td>\n",
       "      <td>6</td>\n",
       "      <td>1</td>\n",
       "    </tr>\n",
       "    <tr>\n",
       "      <th>3</th>\n",
       "      <td>3</td>\n",
       "      <td>2017-01-01</td>\n",
       "      <td>Belgium</td>\n",
       "      <td>KaggleMart</td>\n",
       "      <td>Kaggle for Kids: One Smart Goose</td>\n",
       "      <td>710.0</td>\n",
       "      <td>1</td>\n",
       "      <td>1</td>\n",
       "      <td>2017</td>\n",
       "      <td>6</td>\n",
       "      <td>1</td>\n",
       "    </tr>\n",
       "    <tr>\n",
       "      <th>4</th>\n",
       "      <td>4</td>\n",
       "      <td>2017-01-01</td>\n",
       "      <td>Belgium</td>\n",
       "      <td>KaggleRama</td>\n",
       "      <td>Kaggle Advanced Techniques</td>\n",
       "      <td>240.0</td>\n",
       "      <td>1</td>\n",
       "      <td>1</td>\n",
       "      <td>2017</td>\n",
       "      <td>6</td>\n",
       "      <td>1</td>\n",
       "    </tr>\n",
       "  </tbody>\n",
       "</table>\n",
       "</div>"
      ],
      "text/plain": [
       "   row_id       date  country       store                           product  \\\n",
       "0       0 2017-01-01  Belgium  KaggleMart        Kaggle Advanced Techniques   \n",
       "1       1 2017-01-01  Belgium  KaggleMart            Kaggle Getting Started   \n",
       "2       2 2017-01-01  Belgium  KaggleMart                Kaggle Recipe Book   \n",
       "3       3 2017-01-01  Belgium  KaggleMart  Kaggle for Kids: One Smart Goose   \n",
       "4       4 2017-01-01  Belgium  KaggleRama        Kaggle Advanced Techniques   \n",
       "\n",
       "   num_sold  day_month  month  year  day_week  day_year  \n",
       "0     663.0          1      1  2017         6         1  \n",
       "1     615.0          1      1  2017         6         1  \n",
       "2     480.0          1      1  2017         6         1  \n",
       "3     710.0          1      1  2017         6         1  \n",
       "4     240.0          1      1  2017         6         1  "
      ]
     },
     "execution_count": 20,
     "metadata": {},
     "output_type": "execute_result"
    }
   ],
   "source": [
    "data.head()"
   ]
  },
  {
   "cell_type": "code",
   "execution_count": 21,
   "id": "ee1be28a",
   "metadata": {},
   "outputs": [
    {
     "data": {
      "text/plain": [
       "OrdinalEncoder()"
      ]
     },
     "execution_count": 21,
     "metadata": {},
     "output_type": "execute_result"
    }
   ],
   "source": [
    "enc = OrdinalEncoder()\n",
    "enc.fit(data[[\"country\",\"store\", \"product\"]])"
   ]
  },
  {
   "cell_type": "code",
   "execution_count": 22,
   "id": "524f1dfa",
   "metadata": {},
   "outputs": [],
   "source": [
    "data[[\"country\",\"store\", \"product\"]] = enc.transform(data[[\"country\", \"store\", \"product\"]])"
   ]
  },
  {
   "cell_type": "code",
   "execution_count": 23,
   "id": "8d769d76",
   "metadata": {},
   "outputs": [],
   "source": [
    "holidays_mapping = {0.0 : 'BE', 1.0 : 'FR', 2.0 : 'DE', 3.0 : 'IT', 4.0 : 'PL', 5.0 : 'ES'}"
   ]
  },
  {
   "cell_type": "code",
   "execution_count": 24,
   "id": "4e2852d8",
   "metadata": {},
   "outputs": [],
   "source": [
    "data['iso_country'] = data.country.map(holidays_mapping)"
   ]
  },
  {
   "cell_type": "code",
   "execution_count": 25,
   "id": "a5deecf2",
   "metadata": {
    "scrolled": false
   },
   "outputs": [],
   "source": [
    "data['is_holiday'] = data.apply(lambda x: int(x.date in holidays.country_holidays(x['iso_country'])), axis=1)"
   ]
  },
  {
   "cell_type": "markdown",
   "id": "9e76c5ca",
   "metadata": {},
   "source": [
    "# Model"
   ]
  },
  {
   "cell_type": "code",
   "execution_count": null,
   "id": "a81f4f3e",
   "metadata": {},
   "outputs": [],
   "source": [
    "!pip install fbprophet"
   ]
  },
  {
   "cell_type": "code",
   "execution_count": 1,
   "id": "b1fa471d",
   "metadata": {},
   "outputs": [
    {
     "ename": "ModuleNotFoundError",
     "evalue": "No module named 'fbprophet'",
     "output_type": "error",
     "traceback": [
      "\u001b[1;31m---------------------------------------------------------------------------\u001b[0m",
      "\u001b[1;31mModuleNotFoundError\u001b[0m                       Traceback (most recent call last)",
      "\u001b[1;32m~\\AppData\\Local\\Temp/ipykernel_8808/1957575255.py\u001b[0m in \u001b[0;36m<module>\u001b[1;34m\u001b[0m\n\u001b[1;32m----> 1\u001b[1;33m \u001b[1;32mfrom\u001b[0m \u001b[0mfbprophet\u001b[0m \u001b[1;32mimport\u001b[0m \u001b[0mProphet\u001b[0m\u001b[1;33m\u001b[0m\u001b[1;33m\u001b[0m\u001b[0m\n\u001b[0m\u001b[0;32m      2\u001b[0m \u001b[1;32mfrom\u001b[0m \u001b[0mfbprophet\u001b[0m\u001b[1;33m.\u001b[0m\u001b[0mplot\u001b[0m \u001b[1;32mimport\u001b[0m \u001b[0mplot_plotly\u001b[0m\u001b[1;33m\u001b[0m\u001b[1;33m\u001b[0m\u001b[0m\n\u001b[0;32m      3\u001b[0m \u001b[1;32mimport\u001b[0m \u001b[0mplotly\u001b[0m\u001b[1;33m.\u001b[0m\u001b[0moffline\u001b[0m \u001b[1;32mas\u001b[0m \u001b[0mpy\u001b[0m\u001b[1;33m\u001b[0m\u001b[1;33m\u001b[0m\u001b[0m\n\u001b[0;32m      4\u001b[0m \u001b[0mpy\u001b[0m\u001b[1;33m.\u001b[0m\u001b[0minit_notebook_mode\u001b[0m\u001b[1;33m(\u001b[0m\u001b[1;33m)\u001b[0m\u001b[1;33m\u001b[0m\u001b[1;33m\u001b[0m\u001b[0m\n",
      "\u001b[1;31mModuleNotFoundError\u001b[0m: No module named 'fbprophet'"
     ]
    }
   ],
   "source": [
    "from fbprophet import Prophet\n",
    "from fbprophet.plot import plot_plotly\n",
    "import plotly.offline as py\n",
    "py.init_notebook_mode()"
   ]
  },
  {
   "cell_type": "markdown",
   "id": "c29d21f2",
   "metadata": {},
   "source": [
    "# Validation"
   ]
  },
  {
   "cell_type": "code",
   "execution_count": 231,
   "id": "51a8fef8",
   "metadata": {},
   "outputs": [],
   "source": [
    "params = {\n",
    "    'boosting_type': 'gbdt',\n",
    "    'objective': 'mse',\n",
    "    'metric': ['rmse', 'mape'],\n",
    "    'learning_rate': 0.032,\n",
    "    'verbose': -1,\n",
    "    'n_estimators':60,\n",
    "    \n",
    "}"
   ]
  },
  {
   "cell_type": "code",
   "execution_count": 232,
   "id": "ac5ddd27",
   "metadata": {},
   "outputs": [],
   "source": [
    "y_preds_eval = np.zeros(len(X_eval))"
   ]
  },
  {
   "cell_type": "code",
   "execution_count": 233,
   "id": "3b27d2c2",
   "metadata": {},
   "outputs": [
    {
     "name": "stderr",
     "output_type": "stream",
     "text": [
      "C:\\Users\\Usuario\\anaconda3\\lib\\site-packages\\lightgbm\\engine.py:177: UserWarning: Found `n_estimators` in params. Will use it instead of argument\n",
      "  _log_warning(f\"Found `{alias}` in params. Will use it instead of argument\")\n",
      "C:\\Users\\Usuario\\anaconda3\\lib\\site-packages\\lightgbm\\engine.py:239: UserWarning: 'verbose_eval' argument is deprecated and will be removed in a future release of LightGBM. Pass 'log_evaluation()' callback via 'callbacks' argument instead.\n",
      "  _log_warning(\"'verbose_eval' argument is deprecated and will be removed in a future release of LightGBM. \"\n"
     ]
    },
    {
     "name": "stdout",
     "output_type": "stream",
     "text": [
      "[50]\ttraining's rmse: 35.459\ttraining's mape: 0.200219\tvalid_1's rmse: 83.7414\tvalid_1's mape: 0.216549\n",
      "[50]\ttraining's rmse: 27.2996\ttraining's mape: 0.191846\tvalid_1's rmse: 70.0149\tvalid_1's mape: 0.228251\n",
      "[50]\ttraining's rmse: 20.621\ttraining's mape: 0.192664\tvalid_1's rmse: 52.8069\tvalid_1's mape: 0.226792\n",
      "[50]\ttraining's rmse: 35.0668\ttraining's mape: 0.183604\tvalid_1's rmse: 96.0373\tvalid_1's mape: 0.208132\n"
     ]
    }
   ],
   "source": [
    "for i in list_products:\n",
    "    X_train_temp = X_train[(X_train['product'] == i)].drop(columns=['product'])\n",
    "    y_train_temp = y_train[(X_train['product'] == i)]\n",
    "    X_eval_temp = X_eval[(X_eval['product'] == i)].drop(columns=['product'])\n",
    "    y_eval_temp = y_eval[(X_eval['product'] == i)]\n",
    "    lgb_train = lgb.Dataset(X_train_temp, y_train_temp)\n",
    "    lgb_eval = lgb.Dataset(X_eval_temp, y_eval_temp)\n",
    "    gbm = lgb.train(params,\n",
    "                lgb_train,\n",
    "                valid_sets=[lgb_train, lgb_eval],\n",
    "                verbose_eval=50,)\n",
    "#     X_test_temp = X_test[(X_test['product'] == i)].drop(columns=['product'])\n",
    "    y_preds_eval[(X_eval['product'] == i)] = gbm.predict(X_eval_temp)    "
   ]
  },
  {
   "cell_type": "code",
   "execution_count": 243,
   "id": "2123fc16",
   "metadata": {},
   "outputs": [
    {
     "name": "stdout",
     "output_type": "stream",
     "text": [
      "77.10324972569578\n"
     ]
    }
   ],
   "source": [
    "print(np.sqrt(mean_squared_error(y_preds_eval,y_eval)))"
   ]
  },
  {
   "cell_type": "code",
   "execution_count": 202,
   "id": "8b0e261b",
   "metadata": {},
   "outputs": [
    {
     "name": "stdout",
     "output_type": "stream",
     "text": [
      "[50]\ttraining's rmse: 24.9055\ttraining's mape: 0.0714299\tvalid_1's rmse: 53.5319\tvalid_1's mape: 0.200205\n",
      "[50]\ttraining's rmse: 21.7625\ttraining's mape: 0.0720637\tvalid_1's rmse: 34.1951\tvalid_1's mape: 0.0962563\n"
     ]
    },
    {
     "name": "stderr",
     "output_type": "stream",
     "text": [
      "C:\\Users\\Usuario\\anaconda3\\lib\\site-packages\\lightgbm\\engine.py:177: UserWarning: Found `n_estimators` in params. Will use it instead of argument\n",
      "  _log_warning(f\"Found `{alias}` in params. Will use it instead of argument\")\n",
      "C:\\Users\\Usuario\\anaconda3\\lib\\site-packages\\lightgbm\\engine.py:239: UserWarning: 'verbose_eval' argument is deprecated and will be removed in a future release of LightGBM. Pass 'log_evaluation()' callback via 'callbacks' argument instead.\n",
      "  _log_warning(\"'verbose_eval' argument is deprecated and will be removed in a future release of LightGBM. \"\n"
     ]
    },
    {
     "name": "stdout",
     "output_type": "stream",
     "text": [
      "[50]\ttraining's rmse: 24.6643\ttraining's mape: 0.0715712\tvalid_1's rmse: 55.4198\tvalid_1's mape: 0.203957\n",
      "[50]\ttraining's rmse: 17.448\ttraining's mape: 0.0711783\tvalid_1's rmse: 61.1315\tvalid_1's mape: 0.158572\n",
      "[50]\ttraining's rmse: 8.4838\ttraining's mape: 0.07507\tvalid_1's rmse: 177.604\tvalid_1's mape: 0.60427\n",
      "[50]\ttraining's rmse: 15.5106\ttraining's mape: 0.0712483\tvalid_1's rmse: 82.2287\tvalid_1's mape: 0.245402\n",
      "[50]\ttraining's rmse: 19.0082\ttraining's mape: 0.0691241\tvalid_1's rmse: 35.9659\tvalid_1's mape: 0.188304\n",
      "[50]\ttraining's rmse: 16.1881\ttraining's mape: 0.0679093\tvalid_1's rmse: 26.7943\tvalid_1's mape: 0.107084\n",
      "[50]\ttraining's rmse: 19.2672\ttraining's mape: 0.0683328\tvalid_1's rmse: 35.3032\tvalid_1's mape: 0.191204\n",
      "[50]\ttraining's rmse: 14.1558\ttraining's mape: 0.0686732\tvalid_1's rmse: 49.8289\tvalid_1's mape: 0.163112\n",
      "[50]\ttraining's rmse: 6.49451\ttraining's mape: 0.0712804\tvalid_1's rmse: 144.331\tvalid_1's mape: 0.602512\n",
      "[50]\ttraining's rmse: 11.6904\ttraining's mape: 0.0684563\tvalid_1's rmse: 70.5189\tvalid_1's mape: 0.246407\n",
      "[50]\ttraining's rmse: 14.645\ttraining's mape: 0.0683446\tvalid_1's rmse: 26.1256\tvalid_1's mape: 0.181123\n",
      "[50]\ttraining's rmse: 13.0807\ttraining's mape: 0.0693286\tvalid_1's rmse: 19.9921\tvalid_1's mape: 0.0994162\n",
      "[50]\ttraining's rmse: 15.6626\ttraining's mape: 0.0694296\tvalid_1's rmse: 27.8711\tvalid_1's mape: 0.186688\n",
      "[50]\ttraining's rmse: 11.1139\ttraining's mape: 0.068215\tvalid_1's rmse: 39.6899\tvalid_1's mape: 0.168309\n",
      "[50]\ttraining's rmse: 5.16675\ttraining's mape: 0.0727856\tvalid_1's rmse: 107.646\tvalid_1's mape: 0.601132\n",
      "[50]\ttraining's rmse: 9.69014\ttraining's mape: 0.0688778\tvalid_1's rmse: 55.0683\tvalid_1's mape: 0.254938\n",
      "[50]\ttraining's rmse: 24.6685\ttraining's mape: 0.0675033\tvalid_1's rmse: 48.2645\tvalid_1's mape: 0.171794\n",
      "[50]\ttraining's rmse: 22.3353\ttraining's mape: 0.068223\tvalid_1's rmse: 35.1033\tvalid_1's mape: 0.0982996\n",
      "[50]\ttraining's rmse: 27.2171\ttraining's mape: 0.0683454\tvalid_1's rmse: 53.7606\tvalid_1's mape: 0.19025\n",
      "[50]\ttraining's rmse: 19.3668\ttraining's mape: 0.0687007\tvalid_1's rmse: 61.2454\tvalid_1's mape: 0.14959\n",
      "[50]\ttraining's rmse: 8.56749\ttraining's mape: 0.0713065\tvalid_1's rmse: 202.306\tvalid_1's mape: 0.621952\n",
      "[50]\ttraining's rmse: 15.1107\ttraining's mape: 0.0659178\tvalid_1's rmse: 91.8111\tvalid_1's mape: 0.246023\n"
     ]
    }
   ],
   "source": [
    "for i in list_products:\n",
    "    for j in list_countries:\n",
    "        X_train_temp = X_train[(X_train['product'] == i) & (X_train['country'] == j)].drop(columns=['product','country'])\n",
    "        y_train_temp = y_train[(X_train['product'] == i) & (X_train_final['country'] == j)]\n",
    "        X_eval_temp = X_eval[(X_eval['product'] == i) & (X_eval['country'] == j)].drop(columns=['product','country'])\n",
    "        y_eval_temp = y_eval[(X_eval['product'] == i) & (X_eval['country'] == j)]\n",
    "        lgb_train = lgb.Dataset(X_train_temp, y_train_temp)\n",
    "        lgb_eval = lgb.Dataset(X_eval_temp, y_eval_temp)\n",
    "        gbm = lgb.train(params,\n",
    "                    lgb_train,\n",
    "                    valid_sets=[lgb_train, lgb_eval],\n",
    "                    verbose_eval=50,)\n",
    "        y_preds_eval[(X_eval['product'] == i) & (X_eval['country'] == j)] = gbm.predict(X_eval_temp)    "
   ]
  },
  {
   "cell_type": "code",
   "execution_count": 165,
   "id": "9981e866",
   "metadata": {},
   "outputs": [
    {
     "name": "stdout",
     "output_type": "stream",
     "text": [
      "6675.546473628595\n"
     ]
    }
   ],
   "source": [
    "print(mean_squared_error(y_preds_eval,y_eval))"
   ]
  },
  {
   "cell_type": "code",
   "execution_count": null,
   "id": "fa85793c",
   "metadata": {},
   "outputs": [],
   "source": []
  },
  {
   "cell_type": "markdown",
   "id": "77769212",
   "metadata": {},
   "source": [
    "# Create submission"
   ]
  },
  {
   "cell_type": "code",
   "execution_count": 240,
   "id": "e40a338f",
   "metadata": {},
   "outputs": [],
   "source": [
    "data = {'row_id': np.arange(70128,87648),\n",
    "        'num_sold': y_preds\n",
    "        }"
   ]
  },
  {
   "cell_type": "code",
   "execution_count": 241,
   "id": "3a56e34a",
   "metadata": {},
   "outputs": [],
   "source": [
    "final_submission = pd.DataFrame(data)"
   ]
  },
  {
   "cell_type": "code",
   "execution_count": 242,
   "id": "547d124b",
   "metadata": {},
   "outputs": [],
   "source": [
    "final_submission.to_csv('./data/final_submission.csv', index=False)"
   ]
  },
  {
   "cell_type": "code",
   "execution_count": null,
   "id": "6f4b0fb6",
   "metadata": {},
   "outputs": [],
   "source": []
  }
 ],
 "metadata": {
  "kernelspec": {
   "display_name": "Python 3 (ipykernel)",
   "language": "python",
   "name": "python3"
  },
  "language_info": {
   "codemirror_mode": {
    "name": "ipython",
    "version": 3
   },
   "file_extension": ".py",
   "mimetype": "text/x-python",
   "name": "python",
   "nbconvert_exporter": "python",
   "pygments_lexer": "ipython3",
   "version": "3.9.7"
  }
 },
 "nbformat": 4,
 "nbformat_minor": 5
}
